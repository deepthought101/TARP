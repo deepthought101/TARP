{
 "cells": [
  {
   "cell_type": "markdown",
   "metadata": {},
   "source": [
    "## Predict Suicidal Ideation Based on Tweets"
   ]
  },
  {
   "cell_type": "markdown",
   "metadata": {},
   "source": [
    "<font>Suicidal ideation detection in online social networks is an emerging research area with major challenges. Recent research has shown that the publicly available information, spread across social media platforms, holds valuable indicators for effectively detecting individuals with suicidal intentions. The key challenge of suicide prevention is understanding and detecting the complex risk factors and warning signs that may precipitate the event. We present an approach that uses the social media platform <b>Twitter</b> to quantify suicide warning signs for individuals and to detect posts containing suicide-related content. The main originality of this approach is the automatic identification of sudden changes in a user's online behavior. To detect such changes, we combine natural language processing(NLP) techniques to aggregate behavioral and textual features and pass these features through a model framework, which is widely used for change detection in data.</font>"
   ]
  },
  {
   "cell_type": "markdown",
   "metadata": {},
   "source": [
    "<div class=\"alert alert-block alert-info\">\n",
    "<font color='DodgerBlue'>This notebook, classifier the Tweets as 'Potentential-Suicidal'/'Non-Suicidal'. This is done by using the following techniques :\n",
    "    <ul>\n",
    "        <li>Import the data</li>\n",
    "        <li>Data Cleaning - Removing Null, Missing Values, Renaming Columns</li>\n",
    "        <li>Data Preprocessing - Lower-casing, NLTK, Removing Stop Words, Language Filtering, Lemmetization</li>\n",
    "        <li>Count Vectorizer</li>\n",
    "        <li>Modeling - Gaussian NB, Bernoulli NB, Random Forest, Ensemble, Decision Tree, Gradient Boosting, XGradient Boosting, AdaBoost. Deep Learning - 1-layer LSTM, 2-Layer LSTM, CNN + 2-LSTM</li>\n",
    "        <li>K-Fold Cross Validation</li>\n",
    "    </ul>\n",
    "</font>\n",
    "    </div>"
   ]
  },
  {
   "cell_type": "markdown",
   "metadata": {},
   "source": [
    "### 1. Import Suicide train dataset"
   ]
  },
  {
   "cell_type": "code",
   "execution_count": 2,
   "metadata": {},
   "outputs": [
    {
     "name": "stderr",
     "output_type": "stream",
     "text": [
      "Using TensorFlow backend.\n"
     ]
    },
    {
     "data": {
      "text/html": [
       "<div>\n",
       "<style scoped>\n",
       "    .dataframe tbody tr th:only-of-type {\n",
       "        vertical-align: middle;\n",
       "    }\n",
       "\n",
       "    .dataframe tbody tr th {\n",
       "        vertical-align: top;\n",
       "    }\n",
       "\n",
       "    .dataframe thead th {\n",
       "        text-align: right;\n",
       "    }\n",
       "</style>\n",
       "<table border=\"1\" class=\"dataframe\">\n",
       "  <thead>\n",
       "    <tr style=\"text-align: right;\">\n",
       "      <th></th>\n",
       "      <th>Tweet</th>\n",
       "      <th>Suicide</th>\n",
       "    </tr>\n",
       "  </thead>\n",
       "  <tbody>\n",
       "    <tr>\n",
       "      <th>0</th>\n",
       "      <td>i hate myself so much i want to KILL myself ho...</td>\n",
       "      <td>Potential Suicide post</td>\n",
       "    </tr>\n",
       "    <tr>\n",
       "      <th>1</th>\n",
       "      <td>RT @DrugForumsBest: I woke up with a bag over ...</td>\n",
       "      <td>Potential Suicide post</td>\n",
       "    </tr>\n",
       "    <tr>\n",
       "      <th>2</th>\n",
       "      <td>i wanna fucking kill myself</td>\n",
       "      <td>Potential Suicide post</td>\n",
       "    </tr>\n",
       "    <tr>\n",
       "      <th>3</th>\n",
       "      <td>why do i destroy all my opportunities? am i go...</td>\n",
       "      <td>Potential Suicide post</td>\n",
       "    </tr>\n",
       "    <tr>\n",
       "      <th>4</th>\n",
       "      <td>u - understand what the fuck im doing wrong wi...</td>\n",
       "      <td>Potential Suicide post</td>\n",
       "    </tr>\n",
       "  </tbody>\n",
       "</table>\n",
       "</div>"
      ],
      "text/plain": [
       "                                               Tweet                  Suicide\n",
       "0  i hate myself so much i want to KILL myself ho...  Potential Suicide post \n",
       "1  RT @DrugForumsBest: I woke up with a bag over ...  Potential Suicide post \n",
       "2                        i wanna fucking kill myself  Potential Suicide post \n",
       "3  why do i destroy all my opportunities? am i go...  Potential Suicide post \n",
       "4  u - understand what the fuck im doing wrong wi...  Potential Suicide post "
      ]
     },
     "execution_count": 2,
     "metadata": {},
     "output_type": "execute_result"
    }
   ],
   "source": [
    "import re\n",
    "import nltk\n",
    "import pickle\n",
    "import numpy as np\n",
    "import collections\n",
    "import pandas as pd\n",
    "import tensorflow as tf\n",
    "from sklearn import tree\n",
    "from textblob import Word \n",
    "from sklearn import metrics\n",
    "import matplotlib.pyplot as plt\n",
    "from wordcloud import WordCloud\n",
    "from nltk.corpus import stopwords\n",
    "from keras.models import Sequential\n",
    "from keras.models import Sequential\n",
    "from sklearn.metrics import f1_score\n",
    "from sklearn.metrics import recall_score\n",
    "from nltk.tokenize import RegexpTokenizer\n",
    "from sklearn.model_selection import KFold \n",
    "from sklearn.naive_bayes import GaussianNB\n",
    "from sklearn.metrics import precision_score\n",
    "from sklearn.naive_bayes import BernoulliNB\n",
    "from sklearn.metrics import confusion_matrix\n",
    "from sklearn.ensemble import VotingClassifier\n",
    "from keras.layers import Conv1D ,MaxPooling1D\n",
    "from keras.preprocessing.text import Tokenizer\n",
    "from sklearn.tree import DecisionTreeClassifier\n",
    "from sklearn.ensemble import AdaBoostClassifier\n",
    "from keras.utils.np_utils import to_categorical\n",
    "from sklearn.preprocessing import StandardScaler\n",
    "from keras.layers.core import Dropout, Activation\n",
    "from sklearn.ensemble import RandomForestClassifier\n",
    "from sklearn.model_selection import train_test_split\n",
    "from keras.preprocessing.sequence import pad_sequences\n",
    "from sklearn.ensemble import GradientBoostingClassifier\n",
    "from sklearn.feature_extraction.text import TfidfVectorizer\n",
    "from sklearn.metrics import accuracy_score,classification_report\n",
    "from sklearn.model_selection import cross_val_score, cross_val_predict\n",
    "from keras.layers import Dense, Embedding, LSTM, SpatialDropout1D, Dropout, Flatten\n",
    "%matplotlib inline\n",
    "\n",
    "Suicide = pd.read_csv(\"C:/Users/R078tu/Desktop/Train_suicide1.csv\",encoding =\"ISO-8859-1\") \n",
    "Suicide.head()"
   ]
  },
  {
   "cell_type": "markdown",
   "metadata": {},
   "source": [
    "### 1.1 Dataset Shape "
   ]
  },
  {
   "cell_type": "code",
   "execution_count": 3,
   "metadata": {},
   "outputs": [
    {
     "data": {
      "text/plain": [
       "(1599, 2)"
      ]
     },
     "execution_count": 3,
     "metadata": {},
     "output_type": "execute_result"
    }
   ],
   "source": [
    "Suicide.shape                                                 #shape of the dataset"
   ]
  },
  {
   "cell_type": "markdown",
   "metadata": {},
   "source": [
    "### 2. Data Cleaning"
   ]
  },
  {
   "cell_type": "markdown",
   "metadata": {},
   "source": [
    "<font color='DodgerBlue'>Data Cleaning - Removing Null, Missing Values, Renaming Columns.</font>"
   ]
  },
  {
   "cell_type": "code",
   "execution_count": 4,
   "metadata": {},
   "outputs": [],
   "source": [
    "Suicide['Tweet']=Suicide['Tweet'].fillna(\"\")                  #remove all the null value"
   ]
  },
  {
   "cell_type": "markdown",
   "metadata": {},
   "source": [
    "### 3. Data Preprocessing"
   ]
  },
  {
   "cell_type": "markdown",
   "metadata": {},
   "source": [
    "<font color='DodgerBlue'>\n",
    "    <ul><li>Lower-casing</li>\n",
    "    <li>NLTK</li> \n",
    "    <li>Removing Stop Words</li>\n",
    "    <li>Language Filtering</li>\n",
    "        <li>Lemmetization</li></ul>\n",
    "</font>"
   ]
  },
  {
   "cell_type": "code",
   "execution_count": 5,
   "metadata": {},
   "outputs": [
    {
     "name": "stderr",
     "output_type": "stream",
     "text": [
      "[nltk_data] Downloading package words to\n",
      "[nltk_data]     C:\\Users\\R078tu\\AppData\\Roaming\\nltk_data...\n",
      "[nltk_data]   Package words is already up-to-date!\n"
     ]
    },
    {
     "data": {
      "text/html": [
       "<div>\n",
       "<style scoped>\n",
       "    .dataframe tbody tr th:only-of-type {\n",
       "        vertical-align: middle;\n",
       "    }\n",
       "\n",
       "    .dataframe tbody tr th {\n",
       "        vertical-align: top;\n",
       "    }\n",
       "\n",
       "    .dataframe thead th {\n",
       "        text-align: right;\n",
       "    }\n",
       "</style>\n",
       "<table border=\"1\" class=\"dataframe\">\n",
       "  <thead>\n",
       "    <tr style=\"text-align: right;\">\n",
       "      <th></th>\n",
       "      <th>Tweet</th>\n",
       "      <th>Suicide</th>\n",
       "      <th>lower_case</th>\n",
       "      <th>Special_word</th>\n",
       "      <th>Contents</th>\n",
       "      <th>stop_words</th>\n",
       "      <th>short_word</th>\n",
       "      <th>string</th>\n",
       "      <th>NonEnglish</th>\n",
       "      <th>tweet</th>\n",
       "    </tr>\n",
       "  </thead>\n",
       "  <tbody>\n",
       "    <tr>\n",
       "      <th>0</th>\n",
       "      <td>i hate myself so much i want to KILL myself ho...</td>\n",
       "      <td>Potential Suicide post</td>\n",
       "      <td>i hate myself so much i want to kill myself ho...</td>\n",
       "      <td>[i, hate, myself, so, much, i, want, to, kill,...</td>\n",
       "      <td>i hate myself so much i want to KILL myself ho...</td>\n",
       "      <td>['hate', 'much', 'want', 'kill', 'yâ', 'ð', 'ð']</td>\n",
       "      <td>[hate, much, want, kill]</td>\n",
       "      <td>hate much want kill</td>\n",
       "      <td>hate much want kill</td>\n",
       "      <td>hate much want kill</td>\n",
       "    </tr>\n",
       "    <tr>\n",
       "      <th>1</th>\n",
       "      <td>RT @DrugForumsBest: I woke up with a bag over ...</td>\n",
       "      <td>Potential Suicide post</td>\n",
       "      <td>rt @drugforumsbest: i woke up with a bag over ...</td>\n",
       "      <td>[rt, drugforumsbest, i, woke, up, with, a, bag...</td>\n",
       "      <td>RT @DrugForumsBest: I woke up with a bag over ...</td>\n",
       "      <td>['rt', 'drugforumsbest', 'woke', 'bag', 'head'...</td>\n",
       "      <td>[drugforumsbest, woke, bag, head, intentionall...</td>\n",
       "      <td>drugforumsbest woke bag head intentionally ove...</td>\n",
       "      <td>woke bag head intentionally half handle</td>\n",
       "      <td>woke bag head intentionally half handle</td>\n",
       "    </tr>\n",
       "    <tr>\n",
       "      <th>2</th>\n",
       "      <td>i wanna fucking kill myself</td>\n",
       "      <td>Potential Suicide post</td>\n",
       "      <td>i wanna fucking kill myself</td>\n",
       "      <td>[i, wanna, fucking, kill, myself]</td>\n",
       "      <td>i wanna fucking kill myself</td>\n",
       "      <td>['wanna', 'fucking', 'kill']</td>\n",
       "      <td>[wanna, fucking, kill]</td>\n",
       "      <td>wanna fucking kill</td>\n",
       "      <td>kill</td>\n",
       "      <td>kill</td>\n",
       "    </tr>\n",
       "    <tr>\n",
       "      <th>3</th>\n",
       "      <td>why do i destroy all my opportunities? am i go...</td>\n",
       "      <td>Potential Suicide post</td>\n",
       "      <td>why do i destroy all my opportunities? am i go...</td>\n",
       "      <td>[why, do, i, destroy, all, my, opportunities, ...</td>\n",
       "      <td>why do i destroy all my opportunities? am i go...</td>\n",
       "      <td>['destroy', 'opportunities', 'going', 'kill', ...</td>\n",
       "      <td>[destroy, opportunities, going, kill, accident...</td>\n",
       "      <td>destroy opportunities going kill accident get ...</td>\n",
       "      <td>destroy going kill accident get worse mean</td>\n",
       "      <td>destroy going kill accident get worse mean</td>\n",
       "    </tr>\n",
       "    <tr>\n",
       "      <th>4</th>\n",
       "      <td>u - understand what the fuck im doing wrong wi...</td>\n",
       "      <td>Potential Suicide post</td>\n",
       "      <td>u - understand what the fuck im doing wrong wi...</td>\n",
       "      <td>[u, understand, what, the, fuck, im, doing, wr...</td>\n",
       "      <td>u - understand what the fuck im doing wrong wi...</td>\n",
       "      <td>['u', 'understand', 'fuck', 'im', 'wrong', 'li...</td>\n",
       "      <td>[understand, fuck, wrong, life]</td>\n",
       "      <td>understand fuck wrong life</td>\n",
       "      <td>understand wrong life</td>\n",
       "      <td>understand wrong life</td>\n",
       "    </tr>\n",
       "  </tbody>\n",
       "</table>\n",
       "</div>"
      ],
      "text/plain": [
       "                                               Tweet                  Suicide  \\\n",
       "0  i hate myself so much i want to KILL myself ho...  Potential Suicide post    \n",
       "1  RT @DrugForumsBest: I woke up with a bag over ...  Potential Suicide post    \n",
       "2                        i wanna fucking kill myself  Potential Suicide post    \n",
       "3  why do i destroy all my opportunities? am i go...  Potential Suicide post    \n",
       "4  u - understand what the fuck im doing wrong wi...  Potential Suicide post    \n",
       "\n",
       "                                          lower_case  \\\n",
       "0  i hate myself so much i want to kill myself ho...   \n",
       "1  rt @drugforumsbest: i woke up with a bag over ...   \n",
       "2                        i wanna fucking kill myself   \n",
       "3  why do i destroy all my opportunities? am i go...   \n",
       "4  u - understand what the fuck im doing wrong wi...   \n",
       "\n",
       "                                        Special_word  \\\n",
       "0  [i, hate, myself, so, much, i, want, to, kill,...   \n",
       "1  [rt, drugforumsbest, i, woke, up, with, a, bag...   \n",
       "2                  [i, wanna, fucking, kill, myself]   \n",
       "3  [why, do, i, destroy, all, my, opportunities, ...   \n",
       "4  [u, understand, what, the, fuck, im, doing, wr...   \n",
       "\n",
       "                                            Contents  \\\n",
       "0  i hate myself so much i want to KILL myself ho...   \n",
       "1  RT @DrugForumsBest: I woke up with a bag over ...   \n",
       "2                        i wanna fucking kill myself   \n",
       "3  why do i destroy all my opportunities? am i go...   \n",
       "4  u - understand what the fuck im doing wrong wi...   \n",
       "\n",
       "                                          stop_words  \\\n",
       "0   ['hate', 'much', 'want', 'kill', 'yâ', 'ð', 'ð']   \n",
       "1  ['rt', 'drugforumsbest', 'woke', 'bag', 'head'...   \n",
       "2                       ['wanna', 'fucking', 'kill']   \n",
       "3  ['destroy', 'opportunities', 'going', 'kill', ...   \n",
       "4  ['u', 'understand', 'fuck', 'im', 'wrong', 'li...   \n",
       "\n",
       "                                          short_word  \\\n",
       "0                           [hate, much, want, kill]   \n",
       "1  [drugforumsbest, woke, bag, head, intentionall...   \n",
       "2                             [wanna, fucking, kill]   \n",
       "3  [destroy, opportunities, going, kill, accident...   \n",
       "4                    [understand, fuck, wrong, life]   \n",
       "\n",
       "                                              string  \\\n",
       "0                                hate much want kill   \n",
       "1  drugforumsbest woke bag head intentionally ove...   \n",
       "2                                 wanna fucking kill   \n",
       "3  destroy opportunities going kill accident get ...   \n",
       "4                         understand fuck wrong life   \n",
       "\n",
       "                                   NonEnglish  \\\n",
       "0                         hate much want kill   \n",
       "1     woke bag head intentionally half handle   \n",
       "2                                        kill   \n",
       "3  destroy going kill accident get worse mean   \n",
       "4                       understand wrong life   \n",
       "\n",
       "                                        tweet  \n",
       "0                         hate much want kill  \n",
       "1     woke bag head intentionally half handle  \n",
       "2                                        kill  \n",
       "3  destroy going kill accident get worse mean  \n",
       "4                       understand wrong life  "
      ]
     },
     "execution_count": 5,
     "metadata": {},
     "output_type": "execute_result"
    }
   ],
   "source": [
    "Suicide['lower_case']= Suicide['Tweet'].apply(lambda x: x.lower())      \n",
    "#Dataset['RT'] = Dataset['lower_case'].replace({\"rt\": ''}, regex=True)\n",
    "tokenizer = RegexpTokenizer(r'\\w+')\n",
    "Suicide['Special_word'] = Suicide.apply(lambda row: tokenizer.tokenize(row['lower_case']), axis=1)    \n",
    "\n",
    "freq = pd.Series(' '.join(Suicide['Tweet']).split()).value_counts()[-10:]                       \n",
    "freq = list(freq.index)\n",
    "Suicide['Contents'] = Suicide['Tweet'].apply(lambda x: \" \".join(x for x in x.split() if x not in freq)) \n",
    "\n",
    "stop = stopwords.words('english')\n",
    "Suicide['stop_words'] = Suicide['Special_word'].apply(lambda x: [item for item in x if item not in stop])  \n",
    "\n",
    "Suicide['stop_words'] = Suicide['stop_words'].astype('str')\n",
    "Suicide['short_word'] = Suicide['stop_words'].str.findall('\\w{3,}')         \n",
    "Suicide['string'] =Suicide['stop_words'].replace({\"'\": '', ',': ''}, regex=True)\n",
    "Suicide['string'] = Suicide['string'].str.findall('\\w{3,}').str.join(' ') \n",
    "\n",
    "nltk.download('words')\n",
    "words = set(nltk.corpus.words.words())\n",
    "Suicide['NonEnglish'] = Suicide['string'].apply(lambda x: \" \".join(x for x in x.split() if x in words))  \n",
    "\n",
    "Suicide['tweet'] = Suicide['NonEnglish'].apply(lambda x: \" \".join([Word(word).lemmatize() for word in x.split()])) \n",
    "Suicide.head()"
   ]
  },
  {
   "cell_type": "markdown",
   "metadata": {},
   "source": [
    "### 4. Applying n-gram (1,3)"
   ]
  },
  {
   "cell_type": "markdown",
   "metadata": {},
   "source": [
    "<font color='DodgerBlue'>Splitting the data into Train-Test ratio of 67-33. Applying n-gram to Count Vectorizer and Fit-Transsform using Tf-IDF. </font>"
   ]
  },
  {
   "cell_type": "code",
   "execution_count": 6,
   "metadata": {},
   "outputs": [],
   "source": [
    "x_train, x_test, y_train, y_test = train_test_split(Suicide[\"tweet\"],Suicide[\"Suicide\"], test_size = 0.33, random_state = 42)\n",
    "from sklearn.feature_extraction.text import CountVectorizer, TfidfTransformer    \n",
    "count_vect = CountVectorizer(ngram_range=(1, 3))               #set it to ngram (1,3)\n",
    "transformer = TfidfTransformer(norm='l2',sublinear_tf=True)\n",
    "\n",
    "x_train_counts = count_vect.fit_transform(x_train)\n",
    "x_train_tfidf = transformer.fit_transform(x_train_counts)\n",
    "\n",
    "x_test_counts = count_vect.transform(x_test)\n",
    "x_test_tfidf = transformer.transform(x_test_counts)"
   ]
  },
  {
   "cell_type": "code",
   "execution_count": 7,
   "metadata": {},
   "outputs": [
    {
     "name": "stdout",
     "output_type": "stream",
     "text": [
      "(1071, 9839) (528, 9839) (1071,) (1071,)\n"
     ]
    }
   ],
   "source": [
    "print (x_train_tfidf.shape,x_test_tfidf.shape, y_train.shape, x_train.shape)"
   ]
  },
  {
   "cell_type": "markdown",
   "metadata": {},
   "source": [
    "### 5. Machine Learning Model"
   ]
  },
  {
   "cell_type": "markdown",
   "metadata": {},
   "source": [
    "<font color='DodgerBlue'> Using various Machine learning classifiers to Train, Test and Predict and Validate them.\n",
    "</font>"
   ]
  },
  {
   "cell_type": "markdown",
   "metadata": {},
   "source": [
    "### 5.1 Decision Tree"
   ]
  },
  {
   "cell_type": "markdown",
   "metadata": {},
   "source": [
    "<font color='DodgerBlue'>Using Decision Tree Classifier for Classification and generating the Classification Report.</font>"
   ]
  },
  {
   "cell_type": "code",
   "execution_count": 8,
   "metadata": {},
   "outputs": [
    {
     "name": "stdout",
     "output_type": "stream",
     "text": [
      "0.8390151515151515\n",
      "                         precision    recall  f1-score   support\n",
      "\n",
      "       Not Suicide post       0.87      0.89      0.88       345\n",
      "Potential Suicide post        0.78      0.74      0.76       183\n",
      "\n",
      "               accuracy                           0.84       528\n",
      "              macro avg       0.83      0.82      0.82       528\n",
      "           weighted avg       0.84      0.84      0.84       528\n",
      "\n"
     ]
    }
   ],
   "source": [
    "model_1 = tree.DecisionTreeClassifier()  \n",
    "model_1.fit(x_train_tfidf,y_train)\n",
    "y_pred1 = model_1.predict(x_test_tfidf)\n",
    "from sklearn.metrics import accuracy_score, classification_report\n",
    "print(accuracy_score(y_test,y_pred1))\n",
    "print(classification_report(y_test, y_pred1))"
   ]
  },
  {
   "cell_type": "markdown",
   "metadata": {},
   "source": [
    "#### K-Fold Cross Validation"
   ]
  },
  {
   "cell_type": "code",
   "execution_count": 9,
   "metadata": {},
   "outputs": [
    {
     "name": "stdout",
     "output_type": "stream",
     "text": [
      "0.8390151515151515\n",
      "Cross-validated scores: [0.84916201 0.85434174 0.85674157]\n"
     ]
    }
   ],
   "source": [
    "scores_1 = cross_val_score(model_1, x_train_tfidf,y_train, cv=3)   #3 fold validation\n",
    "print(accuracy_score(y_test,y_pred1))\n",
    "print (\"Cross-validated scores:\", scores_1)"
   ]
  },
  {
   "cell_type": "markdown",
   "metadata": {},
   "source": [
    "### 5.2 Random Forest"
   ]
  },
  {
   "cell_type": "markdown",
   "metadata": {},
   "source": [
    "<font color='DodgerBlue'>Running the Random Forest with the following parameters and capturing the performance metrics\n",
    "    <ul><li>n-estimators = 100</li>\n",
    "        <li>max-depth = 9</li></ul></font>"
   ]
  },
  {
   "cell_type": "code",
   "execution_count": 10,
   "metadata": {},
   "outputs": [
    {
     "name": "stdout",
     "output_type": "stream",
     "text": [
      "0.6893939393939394\n",
      "                         precision    recall  f1-score   support\n",
      "\n",
      "       Not Suicide post       0.68      1.00      0.81       345\n",
      "Potential Suicide post        1.00      0.10      0.19       183\n",
      "\n",
      "               accuracy                           0.69       528\n",
      "              macro avg       0.84      0.55      0.50       528\n",
      "           weighted avg       0.79      0.69      0.59       528\n",
      "\n"
     ]
    }
   ],
   "source": [
    "from sklearn.ensemble import RandomForestClassifier                                \n",
    "model_3 = RandomForestClassifier(n_estimators=100, max_depth=9, random_state=0)\n",
    "model_3.fit(x_train_tfidf,y_train)\n",
    "y_pred3 = model_3.predict(x_test_tfidf)\n",
    "print(accuracy_score(y_test,y_pred3))\n",
    "print(classification_report(y_test, y_pred3))"
   ]
  },
  {
   "cell_type": "markdown",
   "metadata": {},
   "source": [
    "#### Cross Validation for Random Forest"
   ]
  },
  {
   "cell_type": "code",
   "execution_count": 11,
   "metadata": {},
   "outputs": [
    {
     "name": "stdout",
     "output_type": "stream",
     "text": [
      "0.6893939393939394\n",
      "Cross-validated scores: [0.66759777 0.66946779 0.66573034]\n"
     ]
    }
   ],
   "source": [
    "scores_3 = cross_val_score(model_3, x_train_tfidf,y_train, cv=3)   #3 fold validation\n",
    "print(accuracy_score(y_test,y_pred3))\n",
    "print (\"Cross-validated scores:\", scores_3)"
   ]
  },
  {
   "cell_type": "markdown",
   "metadata": {},
   "source": [
    "### 5.3 BernoulliNB "
   ]
  },
  {
   "cell_type": "markdown",
   "metadata": {},
   "source": [
    "<font color='DodgerBlue'>Running the BernoulliNB with the following parameters and capturing the performance metrics\n",
    "    </font>"
   ]
  },
  {
   "cell_type": "code",
   "execution_count": 12,
   "metadata": {},
   "outputs": [
    {
     "name": "stdout",
     "output_type": "stream",
     "text": [
      "0.6912878787878788\n",
      "                         precision    recall  f1-score   support\n",
      "\n",
      "       Not Suicide post       0.68      1.00      0.81       345\n",
      "Potential Suicide post        1.00      0.11      0.20       183\n",
      "\n",
      "               accuracy                           0.69       528\n",
      "              macro avg       0.84      0.55      0.50       528\n",
      "           weighted avg       0.79      0.69      0.60       528\n",
      "\n"
     ]
    }
   ],
   "source": [
    "from sklearn.naive_bayes import BernoulliNB                                  \n",
    "model_4= BernoulliNB(fit_prior=True)\n",
    "model_4.fit(x_train_tfidf,y_train)\n",
    "y_pred4 = model_4.predict(x_test_tfidf)\n",
    "from sklearn.metrics import accuracy_score, classification_report\n",
    "print(accuracy_score(y_test,y_pred4))\n",
    "print(classification_report(y_test, y_pred4))"
   ]
  },
  {
   "cell_type": "markdown",
   "metadata": {},
   "source": [
    "#### Cross Validation "
   ]
  },
  {
   "cell_type": "code",
   "execution_count": 13,
   "metadata": {},
   "outputs": [
    {
     "name": "stdout",
     "output_type": "stream",
     "text": [
      "0.6912878787878788\n",
      "Cross-validated scores: [0.71787709 0.70308123 0.6994382 ]\n"
     ]
    }
   ],
   "source": [
    "scores_4 = cross_val_score(model_4, x_train_tfidf,y_train, cv=3)   #3 fold validation\n",
    "print(accuracy_score(y_test,y_pred4))\n",
    "print (\"Cross-validated scores:\", scores_4)"
   ]
  },
  {
   "cell_type": "markdown",
   "metadata": {},
   "source": [
    "### 5.4 GradientBoostingClassifier "
   ]
  },
  {
   "cell_type": "markdown",
   "metadata": {},
   "source": [
    "<font color='DodgerBlue'>Running the GradientBoostingClassifier with the following parameters and capturing the performance metrics.\n",
    "    </font>"
   ]
  },
  {
   "cell_type": "code",
   "execution_count": 16,
   "metadata": {
    "scrolled": true
   },
   "outputs": [
    {
     "name": "stdout",
     "output_type": "stream",
     "text": [
      "      Iter       Train Loss   Remaining Time \n",
      "         1           1.2161           20.32s\n",
      "         2           1.1526           20.54s\n",
      "         3           1.1008           22.03s\n",
      "         4           1.0568           21.65s\n",
      "         5           1.0214           21.69s\n",
      "         6           0.9913           26.62s\n",
      "         7           0.9616           29.81s\n",
      "         8           0.9359           29.11s\n",
      "         9           0.9110           31.36s\n",
      "        10           0.8895           32.35s\n",
      "        20           0.7485           39.30s\n",
      "        30           0.6641           46.13s\n",
      "        40           0.6044           45.73s\n",
      "        50           0.5591           47.04s\n",
      "        60           0.5182           43.54s\n",
      "        70           0.4806           39.76s\n",
      "        80           0.4533           39.59s\n",
      "        90           0.4272           37.25s\n",
      "       100           0.4068           35.50s\n",
      "       200           0.2663           29.95s\n",
      "       300           0.1911           25.75s\n",
      "       400           0.1440           20.52s\n",
      "       500           0.1102           17.29s\n",
      "       600           0.0869           13.34s\n",
      "       700           0.0702            9.77s\n",
      "       800           0.0576            6.34s\n",
      "       900           0.0482            3.10s\n",
      "      1000           0.0415            0.00s\n",
      "0.8617424242424242\n",
      "                         precision    recall  f1-score   support\n",
      "\n",
      "       Not Suicide post       0.88      0.91      0.90       345\n",
      "Potential Suicide post        0.82      0.77      0.79       183\n",
      "\n",
      "              micro avg       0.86      0.86      0.86       528\n",
      "              macro avg       0.85      0.84      0.85       528\n",
      "           weighted avg       0.86      0.86      0.86       528\n",
      "\n"
     ]
    }
   ],
   "source": [
    "from sklearn.ensemble import GradientBoostingClassifier                       \n",
    "model_7 = GradientBoostingClassifier(n_estimators=1000,\n",
    "                                        max_features='auto', max_depth=4,\n",
    "                                        random_state=1, verbose=1)\n",
    "\n",
    "model_7.fit(x_train_tfidf, y_train)\n",
    "y_pred7 = model_7.predict(x_test_tfidf)\n",
    "from sklearn.metrics import accuracy_score,classification_report\n",
    "print(accuracy_score(y_test, y_pred7))\n",
    "print(classification_report(y_test, y_pred7))"
   ]
  },
  {
   "cell_type": "markdown",
   "metadata": {},
   "source": [
    "#### Cross Validation"
   ]
  },
  {
   "cell_type": "code",
   "execution_count": 17,
   "metadata": {},
   "outputs": [
    {
     "name": "stdout",
     "output_type": "stream",
     "text": [
      "      Iter       Train Loss   Remaining Time \n",
      "         1           1.2195           29.99s\n",
      "         2           1.1580           30.95s\n",
      "         3           1.1074           33.56s\n",
      "         4           1.0655           32.43s\n",
      "         5           1.0304           31.95s\n",
      "         6           0.9995           33.48s\n",
      "         7           0.9689           39.82s\n",
      "         8           0.9426           41.07s\n",
      "         9           0.9207           45.36s\n",
      "        10           0.8976           45.83s\n",
      "        20           0.7595           55.14s\n",
      "        30           0.6756            1.21m\n",
      "        40           0.6089            1.28m\n",
      "        50           0.5540            1.26m\n",
      "        60           0.5099            1.17m\n",
      "        70           0.4758            1.13m\n",
      "        80           0.4461            1.08m\n",
      "        90           0.4180            1.02m\n",
      "       100           0.3921           58.70s\n",
      "       200           0.2416           44.85s\n",
      "       300           0.1628           36.16s\n",
      "       400           0.1147           29.85s\n",
      "       500           0.0833           25.31s\n",
      "       600           0.0626           19.98s\n",
      "       700           0.0482           14.63s\n",
      "       800           0.0383            9.83s\n",
      "       900           0.0316            4.92s\n",
      "      1000           0.0268            0.00s\n",
      "      Iter       Train Loss   Remaining Time \n",
      "         1           1.2141           40.85s\n",
      "         2           1.1486           39.54s\n",
      "         3           1.0963           45.74s\n",
      "         4           1.0512           56.57s\n",
      "         5           1.0129           52.44s\n",
      "         6           0.9818           52.86s\n",
      "         7           0.9543           54.93s\n",
      "         8           0.9252           56.92s\n",
      "         9           0.9032           58.40s\n",
      "        10           0.8799           57.59s\n",
      "        20           0.7333           55.66s\n",
      "        30           0.6469           53.91s\n",
      "        40           0.5812           59.24s\n",
      "        50           0.5272           58.91s\n",
      "        60           0.4834           59.44s\n",
      "        70           0.4476           59.84s\n",
      "        80           0.4156           58.64s\n",
      "        90           0.3894           56.99s\n",
      "       100           0.3644           55.33s\n",
      "       200           0.2147           47.62s\n",
      "       300           0.1402           40.07s\n",
      "       400           0.0970           33.37s\n",
      "       500           0.0690           26.68s\n",
      "       600           0.0518           20.76s\n",
      "       700           0.0402           15.88s\n",
      "       800           0.0324           10.46s\n",
      "       900           0.0270            5.17s\n",
      "      1000           0.0232            0.00s\n",
      "      Iter       Train Loss   Remaining Time \n",
      "         1           1.2141           37.27s\n",
      "         2           1.1479           30.84s\n",
      "         3           1.0940           39.91s\n",
      "         4           1.0495           57.47s\n",
      "         5           1.0111            1.10m\n",
      "         6           0.9778            1.15m\n",
      "         7           0.9488            1.18m\n",
      "         8           0.9225            1.13m\n",
      "         9           0.8965            1.16m\n",
      "        10           0.8748            1.13m\n",
      "        20           0.7233            1.14m\n",
      "        30           0.6352            1.12m\n",
      "        40           0.5729            1.14m\n",
      "        50           0.5207            1.12m\n",
      "        60           0.4800            1.07m\n",
      "        70           0.4456            1.03m\n",
      "        80           0.4149            1.01m\n",
      "        90           0.3893           58.64s\n",
      "       100           0.3693           56.78s\n",
      "       200           0.2265           43.48s\n",
      "       300           0.1557           37.69s\n",
      "       400           0.1111           31.47s\n",
      "       500           0.0838           25.63s\n",
      "       600           0.0663           20.14s\n",
      "       700           0.0537           14.90s\n",
      "       800           0.0453            9.83s\n",
      "       900           0.0396            4.89s\n",
      "      1000           0.0362            0.00s\n",
      "0.8617424242424242\n",
      "Cross-validated scores: [0.83519553 0.8767507  0.89606742]\n"
     ]
    }
   ],
   "source": [
    "scores_7 = cross_val_score(model_7, x_train_tfidf,y_train, cv=3)   #3 fold validation\n",
    "print(accuracy_score(y_test,y_pred7))\n",
    "print (\"Cross-validated scores:\", scores_7)"
   ]
  },
  {
   "cell_type": "markdown",
   "metadata": {},
   "source": [
    "### 5.5 Ensemble"
   ]
  },
  {
   "cell_type": "markdown",
   "metadata": {},
   "source": [
    "<font color='DodgerBlue'>Combining  DecisionTreeClassifier and RandomForestClassifier and capturing the performance metrics.\n",
    "    </font>"
   ]
  },
  {
   "cell_type": "code",
   "execution_count": 14,
   "metadata": {},
   "outputs": [
    {
     "name": "stdout",
     "output_type": "stream",
     "text": [
      "0.8333333333333334\n",
      "                         precision    recall  f1-score   support\n",
      "\n",
      "       Not Suicide post       0.86      0.89      0.87       345\n",
      "Potential Suicide post        0.77      0.73      0.75       183\n",
      "\n",
      "               accuracy                           0.83       528\n",
      "              macro avg       0.82      0.81      0.81       528\n",
      "           weighted avg       0.83      0.83      0.83       528\n",
      "\n"
     ]
    }
   ],
   "source": [
    "from sklearn.ensemble import VotingClassifier                                   \n",
    "DT = tree.DecisionTreeClassifier()\n",
    "forest= RandomForestClassifier(n_estimators=500, max_depth=5, random_state=0)\n",
    "model_6=VotingClassifier(estimators=[('Decision Tree', DT), ('Random Forest', forest)], \n",
    "                       voting='soft', weights=[1,2])                           #weight focus on better model\n",
    "model_6.fit(x_train_tfidf,y_train)                                                   #vote predicts the class label based on the argmax \n",
    "y_pred6 = model_6.predict(x_test_tfidf)\n",
    "print(accuracy_score(y_test, y_pred6))\n",
    "print(classification_report(y_test, y_pred6))"
   ]
  },
  {
   "cell_type": "markdown",
   "metadata": {},
   "source": [
    "#### Cross Validation"
   ]
  },
  {
   "cell_type": "code",
   "execution_count": 15,
   "metadata": {},
   "outputs": [
    {
     "name": "stdout",
     "output_type": "stream",
     "text": [
      "0.8333333333333334\n",
      "Cross-validated scores: [0.84636872 0.8627451  0.85955056]\n"
     ]
    }
   ],
   "source": [
    "scores_6 = cross_val_score(model_6, x_train_tfidf,y_train, cv=3)   #3 fold validation\n",
    "print(accuracy_score(y_test,y_pred6))\n",
    "print (\"Cross-validated scores:\", scores_6)"
   ]
  },
  {
   "cell_type": "markdown",
   "metadata": {},
   "source": [
    "### 5.6 Random Forest "
   ]
  },
  {
   "cell_type": "markdown",
   "metadata": {},
   "source": [
    "<font color='DodgerBlue'>RandomForestClassifier with following parameters and capturing the performance metrics.\n",
    "    <ul><li>n-estimators = 1000</li>\n",
    "        <li>max-depth = 15</li></ul></font>"
   ]
  },
  {
   "cell_type": "code",
   "execution_count": 16,
   "metadata": {},
   "outputs": [
    {
     "name": "stdout",
     "output_type": "stream",
     "text": [
      "0.7651515151515151\n",
      "                         precision    recall  f1-score   support\n",
      "\n",
      "       Not Suicide post       0.74      1.00      0.85       345\n",
      "Potential Suicide post        1.00      0.32      0.49       183\n",
      "\n",
      "               accuracy                           0.77       528\n",
      "              macro avg       0.87      0.66      0.67       528\n",
      "           weighted avg       0.83      0.77      0.72       528\n",
      "\n"
     ]
    }
   ],
   "source": [
    "from sklearn.ensemble import RandomForestClassifier                                          \n",
    "model_8 = RandomForestClassifier(n_estimators=1000, max_depth=15, random_state=0)\n",
    "model_8.fit(x_train_tfidf, y_train)\n",
    "y_pred8 = model_8.predict(x_test_tfidf)\n",
    "from sklearn.metrics import accuracy_score, classification_report\n",
    "print(accuracy_score(y_test,y_pred8))\n",
    "print(classification_report(y_test, y_pred8))"
   ]
  },
  {
   "cell_type": "markdown",
   "metadata": {},
   "source": [
    "#### Cross Validation"
   ]
  },
  {
   "cell_type": "code",
   "execution_count": 17,
   "metadata": {},
   "outputs": [
    {
     "name": "stdout",
     "output_type": "stream",
     "text": [
      "0.7651515151515151\n",
      "Cross-validated scores: [0.76256983 0.74789916 0.74157303]\n"
     ]
    }
   ],
   "source": [
    "scores_8 = cross_val_score(model_8, x_train_tfidf,y_train, cv=3)   #3 fold validation\n",
    "print(accuracy_score(y_test,y_pred8))\n",
    "print (\"Cross-validated scores:\", scores_8)"
   ]
  },
  {
   "cell_type": "markdown",
   "metadata": {},
   "source": [
    "### 5.8 AdaBoost with DT"
   ]
  },
  {
   "cell_type": "markdown",
   "metadata": {},
   "source": [
    "<font color='DodgerBlue'>AdaBoost with DecisionTreeClassifier</font>"
   ]
  },
  {
   "cell_type": "code",
   "execution_count": 18,
   "metadata": {},
   "outputs": [
    {
     "name": "stdout",
     "output_type": "stream",
     "text": [
      "0.8465909090909091\n",
      "                         precision    recall  f1-score   support\n",
      "\n",
      "       Not Suicide post       0.87      0.90      0.88       345\n",
      "Potential Suicide post        0.80      0.75      0.77       183\n",
      "\n",
      "               accuracy                           0.85       528\n",
      "              macro avg       0.83      0.82      0.83       528\n",
      "           weighted avg       0.85      0.85      0.85       528\n",
      "\n"
     ]
    }
   ],
   "source": [
    "from sklearn.tree import DecisionTreeClassifier                                  \n",
    "from sklearn.ensemble import AdaBoostClassifier\n",
    "dt1 = tree.DecisionTreeClassifier()\n",
    "model_13= AdaBoostClassifier(base_estimator=dt1, learning_rate=0.5, n_estimators=300)\n",
    "model_13.fit(x_train_tfidf, y_train)                                                   \n",
    "y_pred13 = model_13.predict(x_test_tfidf)\n",
    "print(accuracy_score(y_test, y_pred13))\n",
    "print(classification_report(y_test, y_pred13))"
   ]
  },
  {
   "cell_type": "markdown",
   "metadata": {},
   "source": [
    "#### Cross-Validation"
   ]
  },
  {
   "cell_type": "code",
   "execution_count": 19,
   "metadata": {},
   "outputs": [
    {
     "name": "stdout",
     "output_type": "stream",
     "text": [
      "0.8465909090909091\n",
      "Cross-validated scores: [0.8603352  0.87394958 0.87921348]\n"
     ]
    }
   ],
   "source": [
    "scores_13 = cross_val_score(model_13, x_train_tfidf,y_train, cv=3)   #3 fold validation\n",
    "print(accuracy_score(y_test,y_pred13))\n",
    "print (\"Cross-validated scores:\", scores_13)"
   ]
  },
  {
   "cell_type": "markdown",
   "metadata": {},
   "source": [
    "### 5.9 AdaBoost with RF"
   ]
  },
  {
   "cell_type": "markdown",
   "metadata": {},
   "source": [
    "<font color='DodgerBlue'>AdaBoost with RandomForestClassifier</font>"
   ]
  },
  {
   "cell_type": "code",
   "execution_count": 20,
   "metadata": {},
   "outputs": [
    {
     "name": "stdout",
     "output_type": "stream",
     "text": [
      "0.8693181818181818\n",
      "                         precision    recall  f1-score   support\n",
      "\n",
      "       Not Suicide post       0.85      0.97      0.91       345\n",
      "Potential Suicide post        0.93      0.67      0.78       183\n",
      "\n",
      "               accuracy                           0.87       528\n",
      "              macro avg       0.89      0.82      0.84       528\n",
      "           weighted avg       0.88      0.87      0.86       528\n",
      "\n"
     ]
    }
   ],
   "source": [
    "from sklearn.ensemble import AdaBoostClassifier\n",
    "dt = RandomForestClassifier(n_estimators=40, max_depth=9, random_state=0)\n",
    "model_14= AdaBoostClassifier(base_estimator=dt, learning_rate=0.2, n_estimators=100)\n",
    "model_14.fit(x_train_tfidf, y_train)                                                   \n",
    "y_pred14 = model_14.predict(x_test_tfidf)\n",
    "print(accuracy_score(y_test, y_pred14))\n",
    "print(classification_report(y_test, y_pred14))"
   ]
  },
  {
   "cell_type": "markdown",
   "metadata": {},
   "source": [
    "#### Cross-Validation"
   ]
  },
  {
   "cell_type": "code",
   "execution_count": 21,
   "metadata": {},
   "outputs": [
    {
     "name": "stdout",
     "output_type": "stream",
     "text": [
      "0.8693181818181818\n",
      "Cross-validated scores: [0.87430168 0.87955182 0.88764045]\n"
     ]
    }
   ],
   "source": [
    "scores_14 = cross_val_score(model_14, x_train_tfidf,y_train, cv=3)   #3 fold validation\n",
    "print(accuracy_score(y_test,y_pred14))\n",
    "print (\"Cross-validated scores:\", scores_14)"
   ]
  },
  {
   "cell_type": "markdown",
   "metadata": {},
   "source": [
    "### 6. Comparison of various ML algorithm"
   ]
  },
  {
   "cell_type": "markdown",
   "metadata": {},
   "source": [
    "#### Comparing the metrics of the different classifiers"
   ]
  },
  {
   "cell_type": "code",
   "execution_count": 24,
   "metadata": {},
   "outputs": [
    {
     "name": "stdout",
     "output_type": "stream",
     "text": [
      "Comparison using N-gram(1,3)\n"
     ]
    },
    {
     "data": {
      "text/html": [
       "<div>\n",
       "<style scoped>\n",
       "    .dataframe tbody tr th:only-of-type {\n",
       "        vertical-align: middle;\n",
       "    }\n",
       "\n",
       "    .dataframe tbody tr th {\n",
       "        vertical-align: top;\n",
       "    }\n",
       "\n",
       "    .dataframe thead th {\n",
       "        text-align: right;\n",
       "    }\n",
       "</style>\n",
       "<table border=\"1\" class=\"dataframe\">\n",
       "  <thead>\n",
       "    <tr style=\"text-align: right;\">\n",
       "      <th></th>\n",
       "      <th>DT</th>\n",
       "      <th>RF(n=100)</th>\n",
       "      <th>RF(n:1000)</th>\n",
       "      <th>BNB</th>\n",
       "      <th>Ensemble</th>\n",
       "      <th>AdaBoost/DT</th>\n",
       "      <th>AdaBoost/RF</th>\n",
       "    </tr>\n",
       "  </thead>\n",
       "  <tbody>\n",
       "    <tr>\n",
       "      <th>Accuracy</th>\n",
       "      <td>83.901515</td>\n",
       "      <td>68.939394</td>\n",
       "      <td>76.515152</td>\n",
       "      <td>69.128788</td>\n",
       "      <td>83.333333</td>\n",
       "      <td>84.659091</td>\n",
       "      <td>86.931818</td>\n",
       "    </tr>\n",
       "    <tr>\n",
       "      <th>F1_score</th>\n",
       "      <td>81.965402</td>\n",
       "      <td>49.804067</td>\n",
       "      <td>66.763458</td>\n",
       "      <td>50.297703</td>\n",
       "      <td>81.354735</td>\n",
       "      <td>82.814089</td>\n",
       "      <td>84.391749</td>\n",
       "    </tr>\n",
       "    <tr>\n",
       "      <th>Recall</th>\n",
       "      <td>83.901515</td>\n",
       "      <td>68.939394</td>\n",
       "      <td>76.515152</td>\n",
       "      <td>69.128788</td>\n",
       "      <td>83.333333</td>\n",
       "      <td>84.659091</td>\n",
       "      <td>86.931818</td>\n",
       "    </tr>\n",
       "    <tr>\n",
       "      <th>Precision</th>\n",
       "      <td>83.901515</td>\n",
       "      <td>68.939394</td>\n",
       "      <td>76.515152</td>\n",
       "      <td>69.128788</td>\n",
       "      <td>83.333333</td>\n",
       "      <td>84.659091</td>\n",
       "      <td>86.931818</td>\n",
       "    </tr>\n",
       "  </tbody>\n",
       "</table>\n",
       "</div>"
      ],
      "text/plain": [
       "                  DT  RF(n=100)  RF(n:1000)        BNB   Ensemble  \\\n",
       "Accuracy   83.901515  68.939394   76.515152  69.128788  83.333333   \n",
       "F1_score   81.965402  49.804067   66.763458  50.297703  81.354735   \n",
       "Recall     83.901515  68.939394   76.515152  69.128788  83.333333   \n",
       "Precision  83.901515  68.939394   76.515152  69.128788  83.333333   \n",
       "\n",
       "           AdaBoost/DT  AdaBoost/RF  \n",
       "Accuracy     84.659091    86.931818  \n",
       "F1_score     82.814089    84.391749  \n",
       "Recall       84.659091    86.931818  \n",
       "Precision    84.659091    86.931818  "
      ]
     },
     "execution_count": 24,
     "metadata": {},
     "output_type": "execute_result"
    }
   ],
   "source": [
    "from sklearn.metrics import f1_score\n",
    "from sklearn.metrics import recall_score\n",
    "from sklearn.metrics import precision_score\n",
    "Comparison = pd.DataFrame({'DT': [accuracy_score(y_test,y_pred1)*100,f1_score(y_test,y_pred1,average='macro')*100,recall_score(y_test, y_pred1,average='micro')*100,precision_score(y_test, y_pred1,average='micro')*100],\n",
    "                            'RF(n=100)': [accuracy_score(y_test,y_pred3)*100,f1_score(y_test,y_pred3,average='macro')*100,recall_score(y_test, y_pred3,average='micro')*100,precision_score(y_test, y_pred3,average='micro')*100 ],\n",
    "                            'RF(n:1000)':[accuracy_score(y_test,y_pred8)*100,f1_score(y_test,y_pred8,average='macro')*100,recall_score(y_test, y_pred8,average='micro')*100,precision_score(y_test, y_pred8,average='micro')*100],\n",
    "                            'BNB':[accuracy_score(y_test,y_pred4)*100,f1_score(y_test,y_pred4,average='macro')*100,recall_score(y_test, y_pred4, average='micro')*100 ,precision_score(y_test, y_pred4,average='micro')*100],\n",
    "                            'Ensemble':[accuracy_score(y_test,y_pred6)*100,f1_score(y_test,y_pred6,average='macro')*100,recall_score(y_test, y_pred6,average='micro')*100,precision_score(y_test, y_pred6,average='micro')*100],\n",
    "                            'AdaBoost/DT':[accuracy_score(y_test,y_pred13)*100,f1_score(y_test,y_pred13,average='macro')*100,recall_score(y_test, y_pred13,average='micro')*100,precision_score(y_test, y_pred13,average='micro')*100],\n",
    "                            'AdaBoost/RF':[accuracy_score(y_test,y_pred14)*100,f1_score(y_test,y_pred14,average='macro')*100,recall_score(y_test, y_pred14,average='micro')*100,precision_score(y_test, y_pred14,average='micro')*100]})\n",
    "    \n",
    "        \n",
    "print ('Comparison using N-gram(1,3)') \n",
    "Comparison.rename(index={0:'Accuracy',1:'F1_score', 2: 'Recall',3:'Precision'}, inplace=True)\n",
    "Comparison.head()"
   ]
  },
  {
   "cell_type": "markdown",
   "metadata": {},
   "source": [
    "### 7. Applying n-gram (1,2)"
   ]
  },
  {
   "cell_type": "markdown",
   "metadata": {},
   "source": [
    "<font color='DodgerBlue'>Splitting the data into Train-Test ratio of 67-33. Applying n-gram(1,2) to Count Vectorizer and Fit-Transsform using Tf-IDF. </font>"
   ]
  },
  {
   "cell_type": "code",
   "execution_count": 25,
   "metadata": {},
   "outputs": [],
   "source": [
    "X_train, X_test, y_train, y_test = train_test_split(Suicide[\"tweet\"],Suicide[\"Suicide\"], test_size = 0.33, random_state = 42)\n",
    "from sklearn.feature_extraction.text import CountVectorizer, TfidfTransformer\n",
    "count_vect = CountVectorizer(ngram_range=(1, 2))\n",
    "transformer = TfidfTransformer(norm='l2',sublinear_tf=True)\n",
    "\n",
    "X_train_counts = count_vect.fit_transform(X_train)\n",
    "X_train_tfidf = transformer.fit_transform(X_train_counts)\n",
    "\n",
    "X_test_counts = count_vect.transform(X_test)\n",
    "X_test_tfidf = transformer.transform(X_test_counts)"
   ]
  },
  {
   "cell_type": "code",
   "execution_count": 26,
   "metadata": {},
   "outputs": [
    {
     "name": "stdout",
     "output_type": "stream",
     "text": [
      "(1071, 6101) (528, 6101) (1071,) (1071,)\n"
     ]
    }
   ],
   "source": [
    "print (X_train_tfidf.shape,X_test_tfidf.shape, y_train.shape, x_train.shape)"
   ]
  },
  {
   "cell_type": "markdown",
   "metadata": {},
   "source": [
    "### 8. Machine Learning Algorithm"
   ]
  },
  {
   "cell_type": "markdown",
   "metadata": {},
   "source": [
    "#### 8.1 Decision Tree"
   ]
  },
  {
   "cell_type": "markdown",
   "metadata": {},
   "source": [
    "<font color='DodgerBlue'>Using Decision Tree Classifier for Classification and generating the Classification Report.</font>"
   ]
  },
  {
   "cell_type": "code",
   "execution_count": 29,
   "metadata": {},
   "outputs": [
    {
     "name": "stdout",
     "output_type": "stream",
     "text": [
      "0.8314393939393939\n",
      "                         precision    recall  f1-score   support\n",
      "\n",
      "       Not Suicide post       0.87      0.88      0.87       345\n",
      "Potential Suicide post        0.76      0.74      0.75       183\n",
      "\n",
      "               accuracy                           0.83       528\n",
      "              macro avg       0.81      0.81      0.81       528\n",
      "           weighted avg       0.83      0.83      0.83       528\n",
      "\n"
     ]
    }
   ],
   "source": [
    "model_a = tree.DecisionTreeClassifier()                                    \n",
    "model_a.fit(X_train_tfidf,y_train)\n",
    "y_preda = model_a.predict(X_test_tfidf)\n",
    "from sklearn.metrics import accuracy_score, classification_report\n",
    "print(accuracy_score(y_test,y_preda))\n",
    "print(classification_report(y_test, y_preda))"
   ]
  },
  {
   "cell_type": "markdown",
   "metadata": {},
   "source": [
    "#### Cross-Validation"
   ]
  },
  {
   "cell_type": "code",
   "execution_count": 30,
   "metadata": {},
   "outputs": [
    {
     "name": "stdout",
     "output_type": "stream",
     "text": [
      "0.8314393939393939\n",
      "Cross-validated scores: [0.8547486  0.85994398 0.85955056]\n"
     ]
    }
   ],
   "source": [
    "scores_a = cross_val_score(model_a, X_train_tfidf,y_train, cv=3)   #3 fold validation\n",
    "print(accuracy_score(y_test,y_preda))\n",
    "print (\"Cross-validated scores:\", scores_a)"
   ]
  },
  {
   "cell_type": "markdown",
   "metadata": {},
   "source": [
    "### 8.2 Random Forest"
   ]
  },
  {
   "cell_type": "markdown",
   "metadata": {},
   "source": [
    "<font color='DodgerBlue'>Running the Random Forest with the following parameters and capturing the performance metrics\n",
    "    <ul><li>n-estimators = 100</li>\n",
    "        <li>max-depth = 9</li></ul></font>"
   ]
  },
  {
   "cell_type": "code",
   "execution_count": 31,
   "metadata": {},
   "outputs": [
    {
     "name": "stdout",
     "output_type": "stream",
     "text": [
      "0.7121212121212122\n",
      "                         precision    recall  f1-score   support\n",
      "\n",
      "       Not Suicide post       0.69      1.00      0.82       345\n",
      "Potential Suicide post        1.00      0.17      0.29       183\n",
      "\n",
      "               accuracy                           0.71       528\n",
      "              macro avg       0.85      0.58      0.55       528\n",
      "           weighted avg       0.80      0.71      0.64       528\n",
      "\n"
     ]
    }
   ],
   "source": [
    "model_b = RandomForestClassifier(n_estimators=1000, max_depth=9, random_state=0) \n",
    "model_b.fit(X_train_tfidf,y_train)\n",
    "y_predb = model_b.predict(X_test_tfidf)\n",
    "print(accuracy_score(y_test,y_predb))\n",
    "print(classification_report(y_test, y_predb))"
   ]
  },
  {
   "cell_type": "code",
   "execution_count": 32,
   "metadata": {},
   "outputs": [
    {
     "name": "stdout",
     "output_type": "stream",
     "text": [
      "0.7121212121212122\n",
      "Cross-validated scores: [0.70949721 0.70308123 0.68820225]\n"
     ]
    }
   ],
   "source": [
    "scores_b = cross_val_score(model_b, X_train_tfidf,y_train, cv=3)   #3 fold validation\n",
    "print(accuracy_score(y_test,y_predb))\n",
    "print (\"Cross-validated scores:\", scores_b)"
   ]
  },
  {
   "cell_type": "markdown",
   "metadata": {},
   "source": [
    "## 8.4 BernoulliNB"
   ]
  },
  {
   "cell_type": "markdown",
   "metadata": {},
   "source": [
    "<font color='DodgerBlue'>Running the BernoulliNB with the following parameters and capturing the performance metrics\n",
    "    </font>"
   ]
  },
  {
   "cell_type": "code",
   "execution_count": 33,
   "metadata": {},
   "outputs": [
    {
     "name": "stdout",
     "output_type": "stream",
     "text": [
      "0.7367424242424242\n",
      "                         precision    recall  f1-score   support\n",
      "\n",
      "       Not Suicide post       0.71      1.00      0.83       345\n",
      "Potential Suicide post        1.00      0.24      0.39       183\n",
      "\n",
      "               accuracy                           0.74       528\n",
      "              macro avg       0.86      0.62      0.61       528\n",
      "           weighted avg       0.81      0.74      0.68       528\n",
      "\n"
     ]
    }
   ],
   "source": [
    "from sklearn.naive_bayes import BernoulliNB                                  \n",
    "model_c= BernoulliNB(fit_prior=True)\n",
    "model_c.fit(X_train_tfidf,y_train)\n",
    "y_predc = model_c.predict(X_test_tfidf)\n",
    "from sklearn.metrics import accuracy_score, classification_report\n",
    "print(accuracy_score(y_test,y_predc))\n",
    "print(classification_report(y_test, y_predc))"
   ]
  },
  {
   "cell_type": "code",
   "execution_count": 34,
   "metadata": {},
   "outputs": [
    {
     "name": "stdout",
     "output_type": "stream",
     "text": [
      "0.7367424242424242\n",
      "Cross-validated scores: [0.74581006 0.74789916 0.75      ]\n"
     ]
    }
   ],
   "source": [
    "scores_c = cross_val_score(model_c, X_train_tfidf,y_train, cv=3)   #3 fold validation\n",
    "print(accuracy_score(y_test,y_predc))\n",
    "print (\"Cross-validated scores:\", scores_c)"
   ]
  },
  {
   "cell_type": "markdown",
   "metadata": {},
   "source": [
    "###  8.4 Gradient Boosting"
   ]
  },
  {
   "cell_type": "markdown",
   "metadata": {},
   "source": [
    "<font color='DodgerBlue'>Running the GradientBoostingClassifier with the following parameters and capturing the performance metrics.\n",
    "    </font>\n"
   ]
  },
  {
   "cell_type": "code",
   "execution_count": 35,
   "metadata": {},
   "outputs": [
    {
     "name": "stdout",
     "output_type": "stream",
     "text": [
      "      Iter       Train Loss   Remaining Time \n",
      "         1           1.2058            8.67m\n",
      "         2           1.1348            5.67m\n",
      "         3           1.0753            4.66m\n",
      "         4           1.0260            4.14m\n",
      "         5           0.9824            3.84m\n",
      "         6           0.9450            3.76m\n",
      "         7           0.9148            3.70m\n",
      "         8           0.8890            3.57m\n",
      "         9           0.8629            3.54m\n",
      "        10           0.8394            3.52m\n",
      "        20           0.6898            3.11m\n",
      "        30           0.6028            3.03m\n",
      "        40           0.5400            2.96m\n",
      "        50           0.4894            2.87m\n",
      "        60           0.4469            2.83m\n",
      "        70           0.4148            2.73m\n",
      "        80           0.3869            2.68m\n",
      "        90           0.3637            2.62m\n",
      "       100           0.3412            2.61m\n",
      "       200           0.2094            2.39m\n",
      "       300           0.1412            2.24m\n",
      "       400           0.1010            2.21m\n",
      "       500           0.0746            2.16m\n",
      "       600           0.0579            2.07m\n",
      "       700           0.0455            2.02m\n",
      "       800           0.0376            1.97m\n",
      "       900           0.0321            1.93m\n",
      "      1000           0.0283            1.89m\n",
      "      2000           0.0164            1.36m\n",
      "      3000           0.0139           52.16s\n",
      "      4000           0.0135           24.88s\n",
      "      5000           0.0135            0.00s\n",
      "0.8484848484848485\n",
      "                         precision    recall  f1-score   support\n",
      "\n",
      "       Not Suicide post       0.85      0.93      0.89       345\n",
      "Potential Suicide post        0.85      0.69      0.76       183\n",
      "\n",
      "               accuracy                           0.85       528\n",
      "              macro avg       0.85      0.81      0.82       528\n",
      "           weighted avg       0.85      0.85      0.84       528\n",
      "\n"
     ]
    }
   ],
   "source": [
    "from sklearn.ensemble import GradientBoostingClassifier                       \n",
    "model_d = GradientBoostingClassifier(n_estimators=5000,\n",
    "                                        max_features='auto', max_depth=5,\n",
    "                                        random_state=1, verbose=1)\n",
    "\n",
    "model_d.fit(X_train_tfidf, y_train)\n",
    "y_predd = model_d.predict(X_test_tfidf)\n",
    "from sklearn.metrics import accuracy_score,classification_report\n",
    "print(accuracy_score(y_test, y_predd))\n",
    "print(classification_report(y_test, y_predd))"
   ]
  },
  {
   "cell_type": "code",
   "execution_count": 45,
   "metadata": {},
   "outputs": [
    {
     "name": "stdout",
     "output_type": "stream",
     "text": [
      "      Iter       Train Loss   Remaining Time \n",
      "         1           1.2100           13.04m\n",
      "         2           1.1407            8.89m\n",
      "         3           1.0849            7.40m\n",
      "         4           1.0374            8.35m\n",
      "         5           0.9957            8.98m\n",
      "         6           0.9603            7.94m\n",
      "         7           0.9297            8.18m\n",
      "         8           0.9024            7.81m\n",
      "         9           0.8758            7.60m\n",
      "        10           0.8544            7.69m\n",
      "        20           0.7021            6.58m\n",
      "        30           0.6101            5.96m\n",
      "        40           0.5410            6.05m\n",
      "        50           0.4872            5.84m\n",
      "        60           0.4452            5.28m\n",
      "        70           0.4095            5.21m\n",
      "        80           0.3774            5.03m\n",
      "        90           0.3503            4.97m\n",
      "       100           0.3260            4.76m\n",
      "       200           0.1826            3.79m\n",
      "       300           0.1151            3.63m\n",
      "       400           0.0773            3.64m\n",
      "       500           0.0542            3.58m\n",
      "       600           0.0397            3.42m\n",
      "       700           0.0309            3.25m\n",
      "       800           0.0252            3.19m\n",
      "       900           0.0215            3.09m\n",
      "      1000           0.0195            2.98m\n",
      "      2000           0.0114            2.09m\n",
      "      3000           0.0106            1.34m\n",
      "      4000           0.0105           39.41s\n",
      "      5000           0.0105            0.00s\n",
      "      Iter       Train Loss   Remaining Time \n",
      "         1           1.2035            2.85m\n",
      "         2           1.1298            3.19m\n",
      "         3           1.0706            3.58m\n",
      "         4           1.0186            3.67m\n",
      "         5           0.9753            3.67m\n",
      "         6           0.9373            3.41m\n",
      "         7           0.9063            3.58m\n",
      "         8           0.8789            3.49m\n",
      "         9           0.8552            3.38m\n",
      "        10           0.8297            3.49m\n",
      "        20           0.6762            3.37m\n",
      "        30           0.5864            3.29m\n",
      "        40           0.5167            3.28m\n",
      "        50           0.4628            3.36m\n",
      "        60           0.4204            3.34m\n",
      "        70           0.3849            3.28m\n",
      "        80           0.3526            3.25m\n",
      "        90           0.3261            3.29m\n",
      "       100           0.3035            3.34m\n",
      "       200           0.1638            3.14m\n",
      "       300           0.0997            3.19m\n",
      "       400           0.0644            3.14m\n",
      "       500           0.0449            3.01m\n",
      "       600           0.0333            2.91m\n",
      "       700           0.0263            2.84m\n",
      "       800           0.0220            2.89m\n",
      "       900           0.0197            2.89m\n",
      "      1000           0.0181            2.81m\n",
      "      2000           0.0113            2.09m\n",
      "      3000           0.0105            1.33m\n",
      "      4000           0.0105           38.85s\n",
      "      5000           0.0105            0.00s\n",
      "      Iter       Train Loss   Remaining Time \n",
      "         1           1.2022            3.02m\n",
      "         2           1.1272            3.93m\n",
      "         3           1.0665            4.26m\n",
      "         4           1.0166            3.76m\n",
      "         5           0.9724            4.16m\n",
      "         6           0.9358            4.08m\n",
      "         7           0.9033            3.89m\n",
      "         8           0.8743            3.86m\n",
      "         9           0.8487            3.64m\n",
      "        10           0.8259            3.59m\n",
      "        20           0.6647            3.71m\n",
      "        30           0.5700            3.59m\n",
      "        40           0.5022            3.45m\n",
      "        50           0.4536            3.38m\n",
      "        60           0.4134            3.52m\n",
      "        70           0.3808            3.46m\n",
      "        80           0.3523            3.43m\n",
      "        90           0.3263            3.44m\n",
      "       100           0.3029            3.41m\n",
      "       200           0.1724            3.37m\n",
      "       300           0.1113            3.15m\n",
      "       400           0.0771            3.07m\n",
      "       500           0.0578            2.99m\n",
      "       600           0.0461            2.90m\n",
      "       700           0.0390            2.86m\n",
      "       800           0.0352            2.87m\n",
      "       900           0.0323            2.81m\n",
      "      1000           0.0299            2.73m\n",
      "      2000           0.0201            2.07m\n",
      "      3000           0.0193            1.33m\n",
      "      4000           0.0193           39.00s\n",
      "      5000           0.0193            0.00s\n",
      "0.8522727272727273\n",
      "Cross-validated scores: [0.85195531 0.85434174 0.90730337]\n"
     ]
    }
   ],
   "source": [
    "scores_d = cross_val_score(model_d, X_train_tfidf,y_train, cv=3)   #3 fold validation\n",
    "print(accuracy_score(y_test,y_predd))\n",
    "print (\"Cross-validated scores:\", scores_d)"
   ]
  },
  {
   "cell_type": "markdown",
   "metadata": {},
   "source": [
    "### 8.4 Ensemble"
   ]
  },
  {
   "cell_type": "markdown",
   "metadata": {},
   "source": [
    "<font color='DodgerBlue'>Combining  DecisionTreeClassifier and RandomForestClassifier and capturing the performance metrics.\n",
    "    </font>"
   ]
  },
  {
   "cell_type": "code",
   "execution_count": 36,
   "metadata": {},
   "outputs": [
    {
     "name": "stdout",
     "output_type": "stream",
     "text": [
      "0.8484848484848485\n",
      "                         precision    recall  f1-score   support\n",
      "\n",
      "       Not Suicide post       0.89      0.88      0.88       345\n",
      "Potential Suicide post        0.78      0.79      0.78       183\n",
      "\n",
      "               accuracy                           0.85       528\n",
      "              macro avg       0.83      0.84      0.83       528\n",
      "           weighted avg       0.85      0.85      0.85       528\n",
      "\n"
     ]
    }
   ],
   "source": [
    "from sklearn.ensemble import VotingClassifier                                    \n",
    "DT = tree.DecisionTreeClassifier()\n",
    "forest= RandomForestClassifier(n_estimators=500, max_depth=5, random_state=0)\n",
    "model_e=VotingClassifier(estimators=[('Decision Tree', DT), ('Random Forest', forest)], \n",
    "                       voting='soft', weights=[1,2])                           #weight focus on better model\n",
    "model_e.fit(X_train_tfidf,y_train)                                                   #vote predicts the class label based on the argmax \n",
    "y_prede = model_e.predict(X_test_tfidf)\n",
    "print(accuracy_score(y_test, y_prede))\n",
    "print(classification_report(y_test, y_prede))"
   ]
  },
  {
   "cell_type": "code",
   "execution_count": 37,
   "metadata": {},
   "outputs": [
    {
     "name": "stdout",
     "output_type": "stream",
     "text": [
      "0.8484848484848485\n",
      "Cross-validated scores: [0.85195531 0.87394958 0.85393258]\n"
     ]
    }
   ],
   "source": [
    "scores_e = cross_val_score(model_e, X_train_tfidf,y_train, cv=3)   #3 fold validation\n",
    "print(accuracy_score(y_test,y_prede))\n",
    "print (\"Cross-validated scores:\", scores_e)"
   ]
  },
  {
   "cell_type": "markdown",
   "metadata": {},
   "source": [
    "### 8.5 Random Forest"
   ]
  },
  {
   "cell_type": "markdown",
   "metadata": {},
   "source": [
    "<font color='DodgerBlue'>RandomForestClassifier with following parameters and capturing the performance metrics.\n",
    "    <ul><li>n-estimators = 2000</li>\n",
    "        <li>max-depth = 15</li></ul></font>"
   ]
  },
  {
   "cell_type": "code",
   "execution_count": 38,
   "metadata": {},
   "outputs": [
    {
     "name": "stdout",
     "output_type": "stream",
     "text": [
      "0.7803030303030303\n",
      "                         precision    recall  f1-score   support\n",
      "\n",
      "       Not Suicide post       0.75      1.00      0.86       345\n",
      "Potential Suicide post        0.99      0.37      0.54       183\n",
      "\n",
      "               accuracy                           0.78       528\n",
      "              macro avg       0.87      0.68      0.70       528\n",
      "           weighted avg       0.83      0.78      0.75       528\n",
      "\n"
     ]
    }
   ],
   "source": [
    "from sklearn.ensemble import RandomForestClassifier                                        \n",
    "model_f = RandomForestClassifier(n_estimators=1000, max_depth= 15, random_state=0)\n",
    "model_f.fit(X_train_tfidf, y_train)\n",
    "y_predf = model_f.predict(X_test_tfidf)\n",
    "from sklearn.metrics import accuracy_score, classification_report\n",
    "print(accuracy_score(y_test,y_predf))\n",
    "print(classification_report(y_test, y_predf))"
   ]
  },
  {
   "cell_type": "code",
   "execution_count": 39,
   "metadata": {},
   "outputs": [
    {
     "name": "stdout",
     "output_type": "stream",
     "text": [
      "0.7803030303030303\n",
      "Cross-validated scores: [0.80167598 0.78151261 0.77808989]\n"
     ]
    }
   ],
   "source": [
    "scores_f = cross_val_score(model_f, X_train_tfidf,y_train, cv=3)   #3 fold validation\n",
    "print(accuracy_score(y_test,y_predf))\n",
    "print (\"Cross-validated scores:\", scores_f)"
   ]
  },
  {
   "cell_type": "markdown",
   "metadata": {},
   "source": [
    "### 8.7 AdaBoost with RF"
   ]
  },
  {
   "cell_type": "markdown",
   "metadata": {},
   "source": [
    "<font color='DodgerBlue'>AdaBoost with DecisionTreeClassifier</font>"
   ]
  },
  {
   "cell_type": "code",
   "execution_count": 40,
   "metadata": {},
   "outputs": [
    {
     "name": "stdout",
     "output_type": "stream",
     "text": [
      "0.8693181818181818\n",
      "                         precision    recall  f1-score   support\n",
      "\n",
      "       Not Suicide post       0.84      0.99      0.91       345\n",
      "Potential Suicide post        0.96      0.65      0.78       183\n",
      "\n",
      "               accuracy                           0.87       528\n",
      "              macro avg       0.90      0.82      0.84       528\n",
      "           weighted avg       0.88      0.87      0.86       528\n",
      "\n"
     ]
    }
   ],
   "source": [
    "from sklearn.ensemble import AdaBoostClassifier                                \n",
    "dt_stump = RandomForestClassifier(n_estimators=40, max_depth=9, random_state=0)\n",
    "model_h= AdaBoostClassifier(base_estimator=dt_stump, learning_rate=0.1, n_estimators=100)\n",
    "model_h.fit(X_train_tfidf, y_train)                                                   \n",
    "y_predh = model_h.predict(X_test_tfidf)\n",
    "print(accuracy_score(y_test, y_predh))\n",
    "print(classification_report(y_test, y_predh))"
   ]
  },
  {
   "cell_type": "code",
   "execution_count": 41,
   "metadata": {},
   "outputs": [
    {
     "name": "stdout",
     "output_type": "stream",
     "text": [
      "0.8693181818181818\n",
      "Cross-validated scores: [0.87150838 0.87394958 0.87640449]\n"
     ]
    }
   ],
   "source": [
    "scores_h = cross_val_score(model_h, X_train_tfidf,y_train, cv=3)   #3 fold validation\n",
    "print(accuracy_score(y_test,y_predh))\n",
    "print (\"Cross-validated scores:\", scores_h)"
   ]
  },
  {
   "cell_type": "markdown",
   "metadata": {},
   "source": [
    "### 8.8 AdaBoost with DT"
   ]
  },
  {
   "cell_type": "markdown",
   "metadata": {},
   "source": [
    "<font color='DodgerBlue'>AdaBoost with DecisionTreeClassifier</font>"
   ]
  },
  {
   "cell_type": "code",
   "execution_count": 42,
   "metadata": {},
   "outputs": [
    {
     "name": "stdout",
     "output_type": "stream",
     "text": [
      "0.8522727272727273\n",
      "                         precision    recall  f1-score   support\n",
      "\n",
      "       Not Suicide post       0.88      0.90      0.89       345\n",
      "Potential Suicide post        0.80      0.77      0.78       183\n",
      "\n",
      "               accuracy                           0.85       528\n",
      "              macro avg       0.84      0.83      0.84       528\n",
      "           weighted avg       0.85      0.85      0.85       528\n",
      "\n"
     ]
    }
   ],
   "source": [
    "from sklearn.tree import DecisionTreeClassifier                               \n",
    "from sklearn.ensemble import AdaBoostClassifier\n",
    "dt_stump = tree.DecisionTreeClassifier()\n",
    "model_i= AdaBoostClassifier(base_estimator=dt_stump, learning_rate=0.1, n_estimators=300)\n",
    "model_i.fit(X_train_tfidf, y_train)                                                   \n",
    "y_predi = model_i.predict(X_test_tfidf)\n",
    "print(accuracy_score(y_test, y_predi))\n",
    "print(classification_report(y_test, y_predi))"
   ]
  },
  {
   "cell_type": "code",
   "execution_count": 43,
   "metadata": {},
   "outputs": [
    {
     "name": "stdout",
     "output_type": "stream",
     "text": [
      "0.8522727272727273\n",
      "Cross-validated scores: [0.84636872 0.8627451  0.90449438]\n"
     ]
    }
   ],
   "source": [
    "scores_i = cross_val_score(model_i, X_train_tfidf,y_train, cv=3)   #3 fold validation\n",
    "print(accuracy_score(y_test,y_predi))\n",
    "print (\"Cross-validated scores:\", scores_i)"
   ]
  },
  {
   "cell_type": "markdown",
   "metadata": {},
   "source": [
    "### 9 Comparison of various Models"
   ]
  },
  {
   "cell_type": "code",
   "execution_count": 44,
   "metadata": {},
   "outputs": [
    {
     "name": "stdout",
     "output_type": "stream",
     "text": [
      "Comparison using N-gram(1,2)\n"
     ]
    },
    {
     "data": {
      "text/html": [
       "<div>\n",
       "<style scoped>\n",
       "    .dataframe tbody tr th:only-of-type {\n",
       "        vertical-align: middle;\n",
       "    }\n",
       "\n",
       "    .dataframe tbody tr th {\n",
       "        vertical-align: top;\n",
       "    }\n",
       "\n",
       "    .dataframe thead th {\n",
       "        text-align: right;\n",
       "    }\n",
       "</style>\n",
       "<table border=\"1\" class=\"dataframe\">\n",
       "  <thead>\n",
       "    <tr style=\"text-align: right;\">\n",
       "      <th></th>\n",
       "      <th>RF(1000)</th>\n",
       "      <th>RF(2000)</th>\n",
       "      <th>BNB</th>\n",
       "      <th>GB</th>\n",
       "      <th>Ensemble</th>\n",
       "      <th>DT</th>\n",
       "      <th>AdaBoost/DT</th>\n",
       "      <th>AdaBoost/RF</th>\n",
       "    </tr>\n",
       "  </thead>\n",
       "  <tbody>\n",
       "    <tr>\n",
       "      <th>Accuracy</th>\n",
       "      <td>71.212121</td>\n",
       "      <td>73.674242</td>\n",
       "      <td>84.848485</td>\n",
       "      <td>84.848485</td>\n",
       "      <td>78.030303</td>\n",
       "      <td>83.143939</td>\n",
       "      <td>85.227273</td>\n",
       "      <td>86.931818</td>\n",
       "    </tr>\n",
       "    <tr>\n",
       "      <th>F1_score</th>\n",
       "      <td>55.459853</td>\n",
       "      <td>60.999665</td>\n",
       "      <td>82.426945</td>\n",
       "      <td>83.358285</td>\n",
       "      <td>69.770197</td>\n",
       "      <td>81.270252</td>\n",
       "      <td>83.563218</td>\n",
       "      <td>84.156073</td>\n",
       "    </tr>\n",
       "    <tr>\n",
       "      <th>Recall</th>\n",
       "      <td>71.212121</td>\n",
       "      <td>73.674242</td>\n",
       "      <td>84.848485</td>\n",
       "      <td>84.848485</td>\n",
       "      <td>78.030303</td>\n",
       "      <td>83.143939</td>\n",
       "      <td>85.227273</td>\n",
       "      <td>86.931818</td>\n",
       "    </tr>\n",
       "    <tr>\n",
       "      <th>Precision</th>\n",
       "      <td>71.212121</td>\n",
       "      <td>73.674242</td>\n",
       "      <td>84.848485</td>\n",
       "      <td>84.848485</td>\n",
       "      <td>78.030303</td>\n",
       "      <td>83.143939</td>\n",
       "      <td>85.227273</td>\n",
       "      <td>86.931818</td>\n",
       "    </tr>\n",
       "  </tbody>\n",
       "</table>\n",
       "</div>"
      ],
      "text/plain": [
       "            RF(1000)   RF(2000)        BNB         GB   Ensemble         DT  \\\n",
       "Accuracy   71.212121  73.674242  84.848485  84.848485  78.030303  83.143939   \n",
       "F1_score   55.459853  60.999665  82.426945  83.358285  69.770197  81.270252   \n",
       "Recall     71.212121  73.674242  84.848485  84.848485  78.030303  83.143939   \n",
       "Precision  71.212121  73.674242  84.848485  84.848485  78.030303  83.143939   \n",
       "\n",
       "           AdaBoost/DT  AdaBoost/RF  \n",
       "Accuracy     85.227273    86.931818  \n",
       "F1_score     83.563218    84.156073  \n",
       "Recall       85.227273    86.931818  \n",
       "Precision    85.227273    86.931818  "
      ]
     },
     "execution_count": 44,
     "metadata": {},
     "output_type": "execute_result"
    }
   ],
   "source": [
    "from sklearn.metrics import f1_score\n",
    "from sklearn.metrics import recall_score\n",
    "from sklearn.metrics import precision_score\n",
    "Comparison = pd.DataFrame({'RF(1000)': [accuracy_score(y_test,y_predb)*100,f1_score(y_test,y_predb,average='macro')*100,recall_score(y_test, y_predb,average='micro')*100,precision_score(y_test, y_predb,average='micro')*100 ],\n",
    "                            'RF(2000)':[accuracy_score(y_test,y_predc)*100,f1_score(y_test,y_predc,average='macro')*100,recall_score(y_test, y_predc,average='micro')*100,precision_score(y_test, y_predc,average='micro')*100],\n",
    "                            'BNB':[accuracy_score(y_test,y_predd)*100,f1_score(y_test,y_predd,average='macro')*100,recall_score(y_test, y_predd, average='micro')*100 ,precision_score(y_test, y_predd,average='micro')*100],\n",
    "                            'GB':[accuracy_score(y_test,y_prede)*100,f1_score(y_test,y_prede,average='macro')*100,recall_score(y_test, y_prede,average='micro')*100,precision_score(y_test, y_prede,average='micro')*100],\n",
    "                            'Ensemble':[accuracy_score(y_test,y_predf)*100,f1_score(y_test,y_predf,average='macro')*100,recall_score(y_test, y_predf,average='micro')*100,precision_score(y_test, y_predf,average='micro')*100],\n",
    "                            'DT': [accuracy_score(y_test,y_preda)*100,f1_score(y_test,y_preda,average='macro')*100,recall_score(y_test, y_preda,average='micro')*100,precision_score(y_test, y_preda,average='micro')*100],\n",
    "                            'AdaBoost/DT':[accuracy_score(y_test,y_predi)*100,f1_score(y_test,y_predi,average='macro')*100,recall_score(y_test, y_predi,average='micro')*100,precision_score(y_test, y_predi,average='micro')*100],\n",
    "                            'AdaBoost/RF':[accuracy_score(y_test,y_predh)*100,f1_score(y_test,y_predh,average='macro')*100,recall_score(y_test, y_predh,average='micro')*100,precision_score(y_test, y_predh,average='micro')*100]})\n",
    "    \n",
    "print ('Comparison using N-gram(1,2)')    \n",
    "Comparison.rename(index={0:'Accuracy',1:'F1_score', 2: 'Recall',3:'Precision'}, inplace=True)\n",
    "Comparison.head(100)"
   ]
  },
  {
   "cell_type": "markdown",
   "metadata": {},
   "source": [
    "## 10. Deep Learning"
   ]
  },
  {
   "cell_type": "markdown",
   "metadata": {},
   "source": [
    "<font color='DodgerBlue'>Creating a Deep Learning model using LSTM</font>"
   ]
  },
  {
   "cell_type": "code",
   "execution_count": 47,
   "metadata": {},
   "outputs": [],
   "source": [
    "n_most_common_words =1000\n",
    "max_len = 20\n",
    "tokenizer = Tokenizer(num_words=n_most_common_words)\n",
    "tokenizer.fit_on_texts(Suicide['Tweet'].values)\n",
    "sequences = tokenizer.texts_to_sequences(Suicide['Tweet'].values)\n",
    "X_DeepLearning = pad_sequences(sequences, maxlen=max_len)"
   ]
  },
  {
   "cell_type": "code",
   "execution_count": 48,
   "metadata": {},
   "outputs": [
    {
     "name": "stdout",
     "output_type": "stream",
     "text": [
      "0    0.0\n",
      "1    0.0\n",
      "2    0.0\n",
      "3    0.0\n",
      "4    0.0\n",
      "5    0.0\n",
      "6    0.0\n",
      "7    0.0\n",
      "8    0.0\n",
      "9    0.0\n",
      "Name: LABEL, dtype: float64\n",
      "[[1. 0.]\n",
      " [1. 0.]\n",
      " [1. 0.]\n",
      " ...\n",
      " [0. 1.]\n",
      " [0. 1.]\n",
      " [0. 1.]]\n"
     ]
    }
   ],
   "source": [
    "from keras.utils.np_utils import to_categorical\n",
    "Suicide.loc[Suicide['Suicide'] == 'Potential Suicide post ' , 'LABEL'] = 0      #set potential suicide post as 0\n",
    "Suicide.loc[Suicide['Suicide'] == 'Not Suicide post', 'LABEL'] = 1              #set non potential suicide post as 1\n",
    "     \n",
    "print(Suicide['LABEL'][:10])\n",
    "labels = to_categorical(Suicide['LABEL'], num_classes=2)\n",
    "print(labels[:])\n",
    "if 'Suicide' in Suicide.keys():\n",
    "    Suicide.drop(['Suicide'], axis=1)"
   ]
  },
  {
   "cell_type": "code",
   "execution_count": 49,
   "metadata": {},
   "outputs": [
    {
     "name": "stdout",
     "output_type": "stream",
     "text": [
      "((1071, 20), (1071, 2), (528, 20), (528, 2))\n"
     ]
    }
   ],
   "source": [
    "XX_train, XX_test, y_train, y_test = train_test_split(X_DeepLearning , labels, test_size=0.33, random_state=42)\n",
    "print((XX_train.shape, y_train.shape, XX_test.shape, y_test.shape))"
   ]
  },
  {
   "cell_type": "markdown",
   "metadata": {},
   "source": [
    "### 10.1   Deep Learning Models"
   ]
  },
  {
   "cell_type": "markdown",
   "metadata": {},
   "source": [
    "### 10.1.1.  1-Layer LSTM - with 15 Epochs"
   ]
  },
  {
   "cell_type": "markdown",
   "metadata": {},
   "source": [
    "<font color='DodgerBlue'>Running 1 layer LSTM with the following parameters and capturing the performance metrics\n",
    "    <ul><li>LSTM = 200</li>\n",
    "        <li>activation = softmax</li>\n",
    "    <li>loss = binary</li></ul></font>"
   ]
  },
  {
   "cell_type": "code",
   "execution_count": 54,
   "metadata": {},
   "outputs": [
    {
     "name": "stdout",
     "output_type": "stream",
     "text": [
      "WARNING:tensorflow:Large dropout rate: 0.7 (>0.5). In TensorFlow 2.x, dropout() uses dropout rate instead of keep_prob. Please ensure that this is intended.\n",
      "Model: \"sequential_1\"\n",
      "_________________________________________________________________\n",
      "Layer (type)                 Output Shape              Param #   \n",
      "=================================================================\n",
      "embedding_1 (Embedding)      (None, 20, 128)           128000    \n",
      "_________________________________________________________________\n",
      "spatial_dropout1d_1 (Spatial (None, 20, 128)           0         \n",
      "_________________________________________________________________\n",
      "lstm_1 (LSTM)                (None, 200)               263200    \n",
      "_________________________________________________________________\n",
      "dense_1 (Dense)              (None, 2)                 402       \n",
      "=================================================================\n",
      "Total params: 391,602\n",
      "Trainable params: 391,602\n",
      "Non-trainable params: 0\n",
      "_________________________________________________________________\n",
      "None\n",
      "Train on 963 samples, validate on 108 samples\n",
      "Epoch 1/15\n",
      "WARNING:tensorflow:Large dropout rate: 0.7 (>0.5). In TensorFlow 2.x, dropout() uses dropout rate instead of keep_prob. Please ensure that this is intended.\n",
      "WARNING:tensorflow:Large dropout rate: 0.7 (>0.5). In TensorFlow 2.x, dropout() uses dropout rate instead of keep_prob. Please ensure that this is intended.\n",
      "963/963 [==============================] - 33s 34ms/sample - loss: 0.6865 - acc: 0.5909 - val_loss: 0.6650 - val_acc: 0.6481\n",
      "Epoch 2/15\n",
      "963/963 [==============================] - 11s 12ms/sample - loss: 0.6578 - acc: 0.6636 - val_loss: 0.6231 - val_acc: 0.6481\n",
      "Epoch 3/15\n",
      "963/963 [==============================] - 11s 12ms/sample - loss: 0.6105 - acc: 0.6511 - val_loss: 0.5687 - val_acc: 0.6481\n",
      "Epoch 4/15\n",
      "963/963 [==============================] - 11s 11ms/sample - loss: 0.5821 - acc: 0.6480 - val_loss: 0.5637 - val_acc: 0.6481\n",
      "Epoch 5/15\n",
      "963/963 [==============================] - 11s 11ms/sample - loss: 0.5571 - acc: 0.6698 - val_loss: 0.5339 - val_acc: 0.7315\n",
      "Epoch 6/15\n",
      "963/963 [==============================] - 11s 11ms/sample - loss: 0.5358 - acc: 0.7352 - val_loss: 0.5192 - val_acc: 0.7778\n",
      "Epoch 7/15\n",
      "963/963 [==============================] - 11s 11ms/sample - loss: 0.5188 - acc: 0.7913 - val_loss: 0.4888 - val_acc: 0.8056\n",
      "Epoch 8/15\n",
      "963/963 [==============================] - 11s 11ms/sample - loss: 0.4857 - acc: 0.8152 - val_loss: 0.4537 - val_acc: 0.8241\n",
      "Epoch 9/15\n",
      "963/963 [==============================] - 11s 11ms/sample - loss: 0.4518 - acc: 0.8307 - val_loss: 0.4257 - val_acc: 0.8333\n",
      "Epoch 10/15\n",
      "963/963 [==============================] - 11s 12ms/sample - loss: 0.4190 - acc: 0.8474 - val_loss: 0.3837 - val_acc: 0.8889\n",
      "Epoch 11/15\n",
      "963/963 [==============================] - 11s 12ms/sample - loss: 0.3765 - acc: 0.8816 - val_loss: 0.3472 - val_acc: 0.8889\n",
      "Epoch 12/15\n",
      "963/963 [==============================] - 12s 12ms/sample - loss: 0.3375 - acc: 0.8920 - val_loss: 0.3062 - val_acc: 0.8889\n",
      "Epoch 13/15\n",
      "963/963 [==============================] - 12s 12ms/sample - loss: 0.2902 - acc: 0.8920 - val_loss: 0.2784 - val_acc: 0.8889\n",
      "Epoch 14/15\n",
      "963/963 [==============================] - 12s 12ms/sample - loss: 0.2505 - acc: 0.8972 - val_loss: 0.2345 - val_acc: 0.8981\n",
      "Epoch 15/15\n",
      "963/963 [==============================] - 11s 11ms/sample - loss: 0.2231 - acc: 0.9211 - val_loss: 0.2123 - val_acc: 0.9167\n"
     ]
    }
   ],
   "source": [
    "import tensorflow as tf \n",
    "from tensorflow.python.keras.layers import Dense, Embedding, LSTM, SpatialDropout1D\n",
    "from tensorflow.python.keras import Sequential\n",
    "from tensorflow.python.keras.layers.core import Dropout, Activation\n",
    "\n",
    "\n",
    "                                                                            # batch 500 lstm 20  dim . sigmoid cate %\n",
    "epochs = 15                                                                   #batch 500 lstm 400, dim 128 sigmoid cate   64%\n",
    "emb_dim = 128\n",
    "batch_size = 500         # higher, training will be faster\n",
    "model_w = Sequential()\n",
    "model_w.add(Embedding(n_most_common_words,emb_dim, input_length=X_DeepLearning.shape[1]))\n",
    "model_w.add(SpatialDropout1D(0.7))                                             \n",
    "model_w.add(LSTM(200, dropout=0.2, recurrent_dropout=0.2))                     #64 as hidden layer # close 70% for each neural layer  \n",
    "model_w.add(Dense(2, activation='softmax'))\n",
    "model_w.compile(optimizer=tf.keras.optimizers.Adam(),loss='binary_crossentropy', metrics=['acc']) #reduce memory  loss = 'mean_squared_logarithmic_error'\n",
    "print(model_w.summary())                                                                           #categorical_crossentropy\n",
    "history_w = model_w.fit(XX_train, y_train, epochs=epochs, batch_size=batch_size,validation_split=0.1)"
   ]
  },
  {
   "cell_type": "markdown",
   "metadata": {},
   "source": [
    "<font color='DodgerBlue'>Plot to verify the Accuracy</font>"
   ]
  },
  {
   "cell_type": "code",
   "execution_count": 55,
   "metadata": {},
   "outputs": [
    {
     "data": {
      "image/png": "[encoded data removed]",
      "text/plain": [
       "<Figure size 432x288 with 1 Axes>"
      ]
     },
     "metadata": {
      "needs_background": "light"
     },
     "output_type": "display_data"
    },
    {
     "data": {
      "image/png": "[encoded data removed]",
      "text/plain": [
       "<Figure size 432x288 with 1 Axes>"
      ]
     },
     "metadata": {
      "needs_background": "light"
     },
     "output_type": "display_data"
    }
   ],
   "source": [
    "import matplotlib.pyplot as plt\n",
    "\n",
    "acc = history_w.history['acc']                          #we can normalize input data in improve the model\n",
    "val_acc = history_w.history['val_acc']\n",
    "loss = history_w.history['loss']\n",
    "val_loss = history_w.history['val_loss']\n",
    "\n",
    "plt.plot( acc, 'go', label='Train accuracy')\n",
    "plt.plot( val_acc, 'g', label='Validate accuracy')\n",
    "plt.title('Train and validate accuracy')\n",
    "plt.legend()                                            #pop up the list for train and validate acc box\n",
    "\n",
    "plt.figure()\n",
    "\n",
    "plt.plot( loss, 'go', label='Train loss')\n",
    "plt.plot( val_loss, 'g', label='Validate loss')\n",
    "plt.title('Train and validate loss')\n",
    "plt.legend()\n",
    "\n",
    "plt.show()                                             #show the graph"
   ]
  },
  {
   "cell_type": "markdown",
   "metadata": {},
   "source": [
    "### 10.1.2.  2 LSTM"
   ]
  },
  {
   "cell_type": "markdown",
   "metadata": {},
   "source": [
    "<font color='DodgerBlue'>Running 2 layers LSTM with the following parameters and capturing the performance metrics\n",
    "    <ul><li>LSTM = 50</li>\n",
    "         <li>LSTM = 200</li>\n",
    "        <li>activation = softmax</li>\n",
    "    <li>loss = binary</li></ul></font>"
   ]
  },
  {
   "cell_type": "code",
   "execution_count": 57,
   "metadata": {},
   "outputs": [
    {
     "name": "stdout",
     "output_type": "stream",
     "text": [
      "Model: \"sequential_3\"\n",
      "_________________________________________________________________\n",
      "Layer (type)                 Output Shape              Param #   \n",
      "=================================================================\n",
      "embedding_3 (Embedding)      (None, 20, 32)            32000     \n",
      "_________________________________________________________________\n",
      "lstm_4 (LSTM)                (None, 20, 50)            16600     \n",
      "_________________________________________________________________\n",
      "lstm_5 (LSTM)                (None, 200)               200800    \n",
      "_________________________________________________________________\n",
      "dense_3 (Dense)              (None, 2)                 402       \n",
      "=================================================================\n",
      "Total params: 249,802\n",
      "Trainable params: 249,802\n",
      "Non-trainable params: 0\n",
      "_________________________________________________________________\n",
      "None\n",
      "Train on 856 samples, validate on 215 samples\n",
      "Epoch 1/15\n",
      "856/856 [==============================] - 34s 40ms/sample - loss: 0.6818 - acc: 0.6238 - val_loss: 0.6251 - val_acc: 0.7070\n",
      "Epoch 2/15\n",
      "856/856 [==============================] - 10s 11ms/sample - loss: 0.6436 - acc: 0.6332 - val_loss: 0.5602 - val_acc: 0.7070\n",
      "Epoch 3/15\n",
      "856/856 [==============================] - 9s 11ms/sample - loss: 0.6159 - acc: 0.6332 - val_loss: 0.5416 - val_acc: 0.7070\n",
      "Epoch 4/15\n",
      "856/856 [==============================] - 10s 11ms/sample - loss: 0.5857 - acc: 0.6869 - val_loss: 0.4881 - val_acc: 0.8093\n",
      "Epoch 5/15\n",
      "856/856 [==============================] - 10s 11ms/sample - loss: 0.5431 - acc: 0.7757 - val_loss: 0.4498 - val_acc: 0.7814\n",
      "Epoch 6/15\n",
      "856/856 [==============================] - 10s 11ms/sample - loss: 0.5208 - acc: 0.7745 - val_loss: 0.4449 - val_acc: 0.7953\n",
      "Epoch 7/15\n",
      "856/856 [==============================] - 10s 11ms/sample - loss: 0.4789 - acc: 0.7956 - val_loss: 0.4101 - val_acc: 0.8186\n",
      "Epoch 8/15\n",
      "856/856 [==============================] - 9s 11ms/sample - loss: 0.4156 - acc: 0.8458 - val_loss: 0.3427 - val_acc: 0.8605\n",
      "Epoch 9/15\n",
      "856/856 [==============================] - 9s 11ms/sample - loss: 0.3402 - acc: 0.8715 - val_loss: 0.2985 - val_acc: 0.8791\n",
      "Epoch 10/15\n",
      "856/856 [==============================] - 9s 11ms/sample - loss: 0.2749 - acc: 0.8972 - val_loss: 0.2495 - val_acc: 0.8930\n",
      "Epoch 11/15\n",
      "856/856 [==============================] - 9s 11ms/sample - loss: 0.2015 - acc: 0.9393 - val_loss: 0.2094 - val_acc: 0.9256\n",
      "Epoch 12/15\n",
      "856/856 [==============================] - 9s 11ms/sample - loss: 0.1510 - acc: 0.9509 - val_loss: 0.2035 - val_acc: 0.9209\n",
      "Epoch 13/15\n",
      "856/856 [==============================] - 9s 11ms/sample - loss: 0.1151 - acc: 0.9673 - val_loss: 0.2133 - val_acc: 0.9302\n",
      "Epoch 14/15\n",
      "856/856 [==============================] - 10s 11ms/sample - loss: 0.0959 - acc: 0.9696 - val_loss: 0.1953 - val_acc: 0.9349\n",
      "Epoch 15/15\n",
      "856/856 [==============================] - 9s 10ms/sample - loss: 0.0761 - acc: 0.9766 - val_loss: 0.1903 - val_acc: 0.9349\n"
     ]
    }
   ],
   "source": [
    "\n",
    "from tensorflow.python.keras.layers.advanced_activations import PReLU\n",
    "from tensorflow.python.keras.layers.normalization import BatchNormalization\n",
    "from tensorflow.python.keras.layers  import Dense, Embedding, LSTM\n",
    "\n",
    "\n",
    "epochs = 15\n",
    "emb_dim = 32                       \n",
    "batch_size = 200                  \n",
    "model_y = Sequential()            \n",
    "model_y.add(Embedding(n_most_common_words,emb_dim ,input_length=X_DeepLearning.shape[1]))\n",
    "model_y.add(LSTM(50, dropout=0.3, recurrent_dropout=0.5, return_sequences=True))\n",
    "model_y.add(LSTM(200, dropout=0.2, recurrent_dropout =0.5))\n",
    "model_y.add(Dense(2, activation='softmax'))\n",
    "model_y.compile(optimizer=tf.optimizers.Adam(),loss='binary_crossentropy', metrics=['acc']) \n",
    "print(model_y.summary())                                                                           #categorical_crossentropy\n",
    "history_y = model_y.fit(XX_train, y_train, epochs=epochs, batch_size=batch_size,validation_split=0.2)"
   ]
  },
  {
   "cell_type": "markdown",
   "metadata": {},
   "source": [
    "<font color='DodgerBlue'>Plot to verify the Accuracy</font>"
   ]
  },
  {
   "cell_type": "code",
   "execution_count": 58,
   "metadata": {},
   "outputs": [
    {
     "data": {
      "image/png": "[encoded data removed]",
      "text/plain": [
       "<Figure size 432x288 with 1 Axes>"
      ]
     },
     "metadata": {
      "needs_background": "light"
     },
     "output_type": "display_data"
    },
    {
     "data": {
      "image/png": "[encoded data removed]",
      "text/plain": [
       "<Figure size 432x288 with 1 Axes>"
      ]
     },
     "metadata": {
      "needs_background": "light"
     },
     "output_type": "display_data"
    }
   ],
   "source": [
    "acc = history_y.history['acc']                          #we can normalize input data in improve the model\n",
    "val_acc = history_y.history['val_acc']\n",
    "loss = history_y.history['loss']\n",
    "val_loss = history_y.history['val_loss']\n",
    "\n",
    "plt.plot( acc, 'go', label='Train accuracy')\n",
    "plt.plot( val_acc, 'g', label='Validate accuracy')\n",
    "plt.title('Train and validate accuracy')\n",
    "plt.legend()                                            #pop up the list for train and validate acc box\n",
    "\n",
    "plt.figure()\n",
    "\n",
    "plt.plot( loss, 'go', label='Train loss')\n",
    "plt.plot( val_loss, 'g', label='Validate loss')\n",
    "plt.title('Train and validate loss')\n",
    "plt.legend()\n",
    "\n",
    "plt.show()                                             #show the graph"
   ]
  },
  {
   "cell_type": "markdown",
   "metadata": {},
   "source": [
    "### 11.  CNN + LSTM"
   ]
  },
  {
   "cell_type": "markdown",
   "metadata": {},
   "source": [
    "<font color='DodgerBlue'>Running CNN + 2 layers LSTM with the following parameters and capturing the performance metrics\n",
    "    <ul><li>LSTM = 100</li>\n",
    "         <li>LSTM = 50</li>\n",
    "        <li>activation = softmax, relu</li>\n",
    "        <li>pooling size = 2</li>\n",
    "    <li>loss = binary</li></ul></font>"
   ]
  },
  {
   "cell_type": "code",
   "execution_count": 60,
   "metadata": {},
   "outputs": [
    {
     "name": "stdout",
     "output_type": "stream",
     "text": [
      "WARNING:tensorflow:Large dropout rate: 0.6 (>0.5). In TensorFlow 2.x, dropout() uses dropout rate instead of keep_prob. Please ensure that this is intended.\n",
      "Model: \"sequential_4\"\n",
      "_________________________________________________________________\n",
      "Layer (type)                 Output Shape              Param #   \n",
      "=================================================================\n",
      "embedding_4 (Embedding)      (None, 20, 15)            15000     \n",
      "_________________________________________________________________\n",
      "conv1d (Conv1D)              (None, 20, 300)           27300     \n",
      "_________________________________________________________________\n",
      "activation (Activation)      (None, 20, 300)           0         \n",
      "_________________________________________________________________\n",
      "max_pooling1d (MaxPooling1D) (None, 10, 300)           0         \n",
      "_________________________________________________________________\n",
      "dropout (Dropout)            (None, 10, 300)           0         \n",
      "_________________________________________________________________\n",
      "lstm_6 (LSTM)                (None, 10, 100)           160400    \n",
      "_________________________________________________________________\n",
      "lstm_7 (LSTM)                (None, 50)                30200     \n",
      "_________________________________________________________________\n",
      "dense_4 (Dense)              (None, 2)                 102       \n",
      "=================================================================\n",
      "Total params: 233,002\n",
      "Trainable params: 233,002\n",
      "Non-trainable params: 0\n",
      "_________________________________________________________________\n",
      "None\n",
      "Train on 963 samples, validate on 108 samples\n",
      "Epoch 1/15\n",
      "963/963 [==============================] - 34s 35ms/sample - loss: 0.6801 - acc: 0.6064 - val_loss: 0.6528 - val_acc: 0.6481\n",
      "Epoch 2/15\n",
      "963/963 [==============================] - 6s 6ms/sample - loss: 0.6345 - acc: 0.6480 - val_loss: 0.6165 - val_acc: 0.6481\n",
      "Epoch 3/15\n",
      "963/963 [==============================] - 6s 6ms/sample - loss: 0.6148 - acc: 0.6480 - val_loss: 0.5763 - val_acc: 0.6481\n",
      "Epoch 4/15\n",
      "963/963 [==============================] - 6s 7ms/sample - loss: 0.5674 - acc: 0.6812 - val_loss: 0.5279 - val_acc: 0.8148\n",
      "Epoch 5/15\n",
      "963/963 [==============================] - 6s 6ms/sample - loss: 0.5079 - acc: 0.8141 - val_loss: 0.4705 - val_acc: 0.8056\n",
      "Epoch 6/15\n",
      "963/963 [==============================] - 6s 6ms/sample - loss: 0.4403 - acc: 0.8152 - val_loss: 0.3910 - val_acc: 0.8333\n",
      "Epoch 7/15\n",
      "963/963 [==============================] - 6s 7ms/sample - loss: 0.3471 - acc: 0.8650 - val_loss: 0.3025 - val_acc: 0.8611\n",
      "Epoch 8/15\n",
      "963/963 [==============================] - 6s 6ms/sample - loss: 0.2256 - acc: 0.9190 - val_loss: 0.2239 - val_acc: 0.9259\n",
      "Epoch 9/15\n",
      "963/963 [==============================] - 6s 6ms/sample - loss: 0.1424 - acc: 0.9564 - val_loss: 0.1849 - val_acc: 0.9259\n",
      "Epoch 10/15\n",
      "963/963 [==============================] - 6s 6ms/sample - loss: 0.0974 - acc: 0.9616 - val_loss: 0.2098 - val_acc: 0.9259\n",
      "Epoch 11/15\n",
      "963/963 [==============================] - 6s 6ms/sample - loss: 0.0643 - acc: 0.9772 - val_loss: 0.2374 - val_acc: 0.9352\n",
      "Epoch 12/15\n",
      "963/963 [==============================] - 6s 6ms/sample - loss: 0.0412 - acc: 0.9855 - val_loss: 0.2569 - val_acc: 0.9167\n",
      "Epoch 13/15\n",
      "963/963 [==============================] - 6s 6ms/sample - loss: 0.0336 - acc: 0.9917 - val_loss: 0.2813 - val_acc: 0.9167\n",
      "Epoch 14/15\n",
      "963/963 [==============================] - 6s 6ms/sample - loss: 0.0312 - acc: 0.9948 - val_loss: 0.3128 - val_acc: 0.9259\n",
      "Epoch 15/15\n",
      "963/963 [==============================] - 6s 6ms/sample - loss: 0.0261 - acc: 0.9938 - val_loss: 0.3344 - val_acc: 0.9259\n"
     ]
    }
   ],
   "source": [
    "\n",
    "\n",
    "from tensorflow.python.keras.layers import Conv1D ,MaxPooling1D\n",
    "from tensorflow.python.keras.models import Sequential\n",
    "from tensorflow.python.keras.layers import Dense, Dropout, Flatten\n",
    "\n",
    "\n",
    "epochs = 15\n",
    "emb_dim = 15                                                                  \n",
    "batch_size = 200\n",
    "model_Z = Sequential()\n",
    "model_Z.add(Embedding(n_most_common_words,emb_dim, input_length=X_DeepLearning.shape[1]))\n",
    "model_Z.add(Conv1D(300, 6, padding='same'))\n",
    "model_Z.add(Activation('relu'))\n",
    "model_Z.add(MaxPooling1D(pool_size=2))\n",
    "model_Z.add(Dropout(0.6))\n",
    "model_Z.add(LSTM(100, dropout=0.5, recurrent_dropout=0.5, return_sequences=True))\n",
    "model_Z.add(LSTM(50, dropout=0.5, recurrent_dropout=0.5))\n",
    "model_Z.add(Dense(2, activation='softmax'))\n",
    "model_Z.compile(optimizer=tf.optimizers.Adam(),loss='binary_crossentropy', metrics=['acc'])\n",
    "print(model_Z.summary())                                                                           #categorical_crossentropy\n",
    "historyZ = model_Z.fit(XX_train, y_train, epochs=epochs, batch_size=batch_size,validation_split=0.1)"
   ]
  },
  {
   "cell_type": "markdown",
   "metadata": {},
   "source": [
    "<font color='DodgerBlue'>Plot to verify the Accuracy</font>"
   ]
  },
  {
   "cell_type": "code",
   "execution_count": 61,
   "metadata": {},
   "outputs": [
    {
     "data": {
      "image/png": "[encoded data removed]",
      "text/plain": [
       "<Figure size 432x288 with 1 Axes>"
      ]
     },
     "metadata": {
      "needs_background": "light"
     },
     "output_type": "display_data"
    },
    {
     "data": {
      "image/png": "[encoded data removed]",
      "text/plain": [
       "<Figure size 432x288 with 1 Axes>"
      ]
     },
     "metadata": {
      "needs_background": "light"
     },
     "output_type": "display_data"
    }
   ],
   "source": [
    "acc = historyZ.history['acc']                          #plot the graph that contains accuracy, loss and val_loss\n",
    "loss = historyZ.history['loss']\n",
    "val_loss = historyZ.history['val_loss']\n",
    "\n",
    "\n",
    "plt.plot( acc, 'go', label='Train accuracy')\n",
    "plt.plot( val_acc, 'g', label='Validate accuracy')\n",
    "plt.title('Train and validate accuracy')\n",
    "plt.legend()                                            #pop up the list for train and validate acc box\n",
    "\n",
    "plt.figure()\n",
    "\n",
    "plt.plot( loss, 'go', label='Train loss')\n",
    "plt.plot( val_loss, 'g', label='Validate loss')\n",
    "plt.title('Train and validate loss')\n",
    "plt.legend()\n",
    "\n",
    "plt.show()                                             #show the graph"
   ]
  },
  {
   "cell_type": "markdown",
   "metadata": {},
   "source": [
    "## Save best model in hdf5 file"
   ]
  },
  {
   "cell_type": "code",
   "execution_count": 63,
   "metadata": {},
   "outputs": [
    {
     "name": "stdout",
     "output_type": "stream",
     "text": [
      "Saved model to disk\n"
     ]
    }
   ],
   "source": [
    "#!pip install h5py                                   # not recommend to save keras model in pickle , so we use hdf5 file\n",
    "\n",
    "from tensorflow.python.keras.models import model_from_json\n",
    "model_w_json = model_w.to_json()\n",
    "with open(\"C:/Users/R078tu/Desktop/model_w.json\", \"w\") as json_file:\n",
    "    json_file.write(model_w_json)\n",
    "model_w.save_weights(\"C:/Users/R078tu/Desktop/model_w.h5\")\n",
    "print(\"Saved model to disk\")                        # save the model for testing later"
   ]
  },
  {
   "cell_type": "markdown",
   "metadata": {},
   "source": [
    "## A little DEMO"
   ]
  },
  {
   "cell_type": "code",
   "execution_count": 64,
   "metadata": {},
   "outputs": [],
   "source": [
    "all_word = []                              #set a dictionary for tweets and sentiment\n",
    "for i in range(len(Suicide)):\n",
    "    tweets = Suicide['tweet'][i]\n",
    "    sentiment= Suicide['Suicide'][i]\n",
    "    all_word.append((tweets,sentiment))"
   ]
  },
  {
   "cell_type": "code",
   "execution_count": 65,
   "metadata": {},
   "outputs": [],
   "source": [
    "tweets = []                                 #set dictionary after filtering the word\n",
    "for (words, sentiment) in all_word:\n",
    "    words_filtered = [e.lower() for e in words.split() if len(e) >= 3] \n",
    "    tweets.append((words_filtered, sentiment))"
   ]
  },
  {
   "cell_type": "code",
   "execution_count": 66,
   "metadata": {},
   "outputs": [],
   "source": [
    "def get_words_in_tweets(tweets):               #define get tweets' word\n",
    "    all_words = []\n",
    "    for (words, sentiment) in tweets:\n",
    "        all_words.extend(words)\n",
    "    return all_words\n",
    "\n",
    "\n",
    "def get_word_features(wordlist):              #define in a wordlist\n",
    "    wordlist = nltk.FreqDist(wordlist)\n",
    "    word_features = wordlist.keys()\n",
    "    return word_features\n",
    "\n",
    "word_features = get_word_features(get_words_in_tweets(tweets))"
   ]
  },
  {
   "cell_type": "code",
   "execution_count": 67,
   "metadata": {},
   "outputs": [],
   "source": [
    "def extract_features(document):              # set features for each word\n",
    "    document_words = set(document)\n",
    "    features = {}\n",
    "    for word in word_features:\n",
    "        features['contains(%s)' % word] = (word in document_words)\n",
    "    return features"
   ]
  },
  {
   "cell_type": "code",
   "execution_count": 68,
   "metadata": {},
   "outputs": [],
   "source": [
    "training_set = nltk.classify.apply_features(extract_features, tweets)     #apply the features"
   ]
  },
  {
   "cell_type": "code",
   "execution_count": 69,
   "metadata": {},
   "outputs": [],
   "source": [
    "classifier = nltk.NaiveBayesClassifier.train(training_set)        #train data"
   ]
  },
  {
   "cell_type": "code",
   "execution_count": 70,
   "metadata": {},
   "outputs": [
    {
     "name": "stdout",
     "output_type": "stream",
     "text": [
      "Most Informative Features\n",
      "           contains(die) = True           Potent : Not Su =     59.7 : 1.0\n",
      "          contains(hate) = True           Potent : Not Su =     49.0 : 1.0\n",
      "          contains(kill) = True           Potent : Not Su =     47.6 : 1.0\n",
      "         contains(tired) = True           Potent : Not Su =     38.1 : 1.0\n",
      "          contains(damn) = True           Potent : Not Su =     35.8 : 1.0\n",
      "     contains(miserable) = True           Potent : Not Su =     27.8 : 1.0\n",
      "        contains(living) = True           Potent : Not Su =     25.2 : 1.0\n",
      "       contains(suicide) = True           Potent : Not Su =     24.1 : 1.0\n",
      "    contains(everything) = True           Potent : Not Su =     18.3 : 1.0\n",
      "         contains(alone) = True           Potent : Not Su =     17.9 : 1.0\n",
      "None\n"
     ]
    }
   ],
   "source": [
    "print (classifier.show_most_informative_features(10))          #show the ratio "
   ]
  },
  {
   "cell_type": "code",
   "execution_count": 74,
   "metadata": {},
   "outputs": [
    {
     "name": "stdout",
     "output_type": "stream",
     "text": [
      "Potential Suicide post \n"
     ]
    }
   ],
   "source": [
    "#Example as below\n",
    "#I am having a good thanksgiving and feeling bless                  \n",
    "#I am thinking why the actor just kill himself, he sucks to the max!    \n",
    "#today i almost kill myself because I almost hit by a car, thank lord  \n",
    "#I want to hurt myself so badly, just want to die alone now             \n",
    "#I dont know what to do anymore I lost my job, my wife left me. I am so fed up with my life \n",
    "\n",
    "tweet ='I dont know what to do anymore I lost my job, my wife left me. I am so fed up with my life'\n",
    "print (classifier.classify(extract_features(tweet.split())))        #testing tweets"
   ]
  },
  {
   "cell_type": "code",
   "execution_count": null,
   "metadata": {},
   "outputs": [],
   "source": []
  }
 ],
 "metadata": {
  "kernelspec": {
   "display_name": "Python 3",
   "language": "python",
   "name": "python3"
  },
  "language_info": {
   "codemirror_mode": {
    "name": "ipython",
    "version": 3
   },
   "file_extension": ".py",
   "mimetype": "text/x-python",
   "name": "python",
   "nbconvert_exporter": "python",
   "pygments_lexer": "ipython3",
   "version": "3.7.1"
  }
 },
 "nbformat": 4,
 "nbformat_minor": 2
}
